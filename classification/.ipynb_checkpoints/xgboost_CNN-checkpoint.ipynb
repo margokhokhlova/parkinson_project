{
 "cells": [
  {
   "cell_type": "markdown",
   "id": "ec7cce29",
   "metadata": {},
   "source": [
    "Experiments for data classification with XGBoost trees and CNNs"
   ]
  },
  {
   "cell_type": "code",
   "execution_count": 1,
   "id": "ca0f8041",
   "metadata": {},
   "outputs": [],
   "source": [
    "# requirements\n",
    "import os\n",
    "import sys\n",
    "sys.path.insert(0,'..') # to add parent directory\n",
    "import random\n",
    "import numpy as np\n",
    "import matplotlib.pyplot as plt\n",
    "import xgboost\n",
    "from numpy import mean\n",
    "from numpy import std\n",
    "from sklearn.datasets import make_classification\n",
    "from sklearn.model_selection import cross_val_score\n",
    "from sklearn.model_selection import RepeatedStratifiedKFold\n",
    "from xgboost import XGBClassifier\n",
    "from matplotlib import pyplot"
   ]
  },
  {
   "cell_type": "markdown",
   "id": "3de60c13",
   "metadata": {},
   "source": [
    "15 июня отчет, до 15 мая открытие.  \n",
    "\n",
    "Текст в отчет.\n",
    "\n",
    "Конференция ? Журнал ? \n",
    "\n",
    "* gen of small datasets \n",
    "* applications \n",
    "\n",
    "* SENSORS (?) "
   ]
  },
  {
   "cell_type": "markdown",
   "id": "871a9a60",
   "metadata": {},
   "source": [
    "Комментарии Алексея:\n",
    "\n",
    "Сравнение с одинаковами признаками для статьи : \n",
    "\n",
    "* распределение одинаковое максимальное кол-во кросс-валидаций тут и на тайском методе. ПД и контроль. \n",
    "\n",
    "* убрать треугольник (или понять, что он есть)\n",
    "\n",
    "** Balance the dataset with synthetic samples (SMOTE)\n",
    "\n",
    "** Vanilla Gans  -> generated data checked with the patent coefficients and histograms (!)"
   ]
  },
  {
   "cell_type": "markdown",
   "id": "025a1b1d",
   "metadata": {},
   "source": [
    "## Exploration\n",
    "Данные уже были посчитаны в прошлом блокноте, здесь они только подгружаются из файла.\n",
    "Данные от 41 пациента, снятые в разных позах. Первая поза, это поза Хуторской. Вторая поза, это поза с выпрямленными руками. В этом блокноте данные позы хуторской отмечатся _h, а позы с прямыми руками, _v. "
   ]
  },
  {
   "cell_type": "code",
   "execution_count": 2,
   "id": "698a388a",
   "metadata": {},
   "outputs": [],
   "source": [
    "data_v = np.genfromtxt('../CNN/data_cnn_vitr.csv', delimiter=',', dtype=None)\n",
    "labels_v = data_v[:,0]\n",
    "features_v = np.array(data_v[:,1:])\n",
    "data_h = np.genfromtxt('../CNN/data_cnn.csv', delimiter=',', dtype=None)\n",
    "labels_h = data_h[:,0]\n",
    "features_h = data_h[:,1:]"
   ]
  },
  {
   "cell_type": "code",
   "execution_count": 3,
   "id": "29976f89",
   "metadata": {},
   "outputs": [],
   "source": [
    "# Проверка значений лейблов данных\n",
    "labels_h == labels_v\n",
    "labels = labels_h"
   ]
  },
  {
   "cell_type": "code",
   "execution_count": 4,
   "id": "9d9bb5cd",
   "metadata": {},
   "outputs": [
    {
     "name": "stdout",
     "output_type": "stream",
     "text": [
      "(41, 24) (41, 24)\n"
     ]
    }
   ],
   "source": [
    "print(features_v.shape, features_h.shape)"
   ]
  },
  {
   "cell_type": "markdown",
   "id": "9531a05e",
   "metadata": {},
   "source": [
    "На этом этапе мы решили только пробовать разделять пациентов с БП и контрольных пациентов. Удалим пациентов ЭТ из выборки."
   ]
  },
  {
   "cell_type": "code",
   "execution_count": 5,
   "id": "2b61af05",
   "metadata": {},
   "outputs": [],
   "source": [
    "features_h_pd_c = []\n",
    "features_v_pd_c = []\n",
    "features_h_et_c = []\n",
    "features_v_et_c = []\n",
    "labels_pd_c = [] \n",
    "labels_et_c = []\n",
    "for i in range(len(labels)):\n",
    "    if labels[i]==0: # контроль\n",
    "        features_h_pd_c.append(features_h[i,:])\n",
    "        features_v_pd_c.append(features_v[i,:])\n",
    "        features_h_et_c.append(features_h[i,:])\n",
    "        features_v_et_c.append(features_v[i,:])\n",
    "        labels_pd_c.append(0)\n",
    "        labels_et_c.append(0)\n",
    "    if labels[i]==1: # БП\n",
    "        features_h_pd_c.append(features_h[i,:])\n",
    "        features_v_pd_c.append(features_v[i,:])\n",
    "        labels_pd_c.append(1)\n",
    "    else: # ET\n",
    "        features_h_et_c.append(features_h[i,:])\n",
    "        features_v_et_c.append(features_v[i,:])\n",
    "        labels_et_c.append(1)\n",
    "features_v_pd_c = np.array(features_v_pd_c)\n",
    "features_h_pd_c = np.array(features_h_pd_c)\n",
    "features_v_et_c = np.array(features_v_et_c)\n",
    "features_h_et_c = np.array(features_h_et_c)"
   ]
  },
  {
   "cell_type": "markdown",
   "id": "c37903c6",
   "metadata": {},
   "source": [
    "В итоге получили выборку из 28 пациентов"
   ]
  },
  {
   "cell_type": "code",
   "execution_count": 6,
   "id": "e4d8d662",
   "metadata": {},
   "outputs": [
    {
     "name": "stdout",
     "output_type": "stream",
     "text": [
      "Всего пациентов 28, из них Паркинсон 20\n",
      "(28, 24) (28, 24)\n"
     ]
    }
   ],
   "source": [
    "print(f'Всего пациентов {len(labels_pd_c)}, из них Паркинсон {sum(labels_pd_c)}')\n",
    "print(features_v_pd_c.shape, features_h_pd_c.shape)"
   ]
  },
  {
   "cell_type": "code",
   "execution_count": 7,
   "id": "864a4ad8",
   "metadata": {
    "scrolled": true
   },
   "outputs": [
    {
     "data": {
      "text/plain": [
       "Text(0.5, 1.0, 'Heat Map Пациенты \\n в позе Хуторской')"
      ]
     },
     "execution_count": 7,
     "metadata": {},
     "output_type": "execute_result"
    },
    {
     "data": {
      "image/png": "[encoded data removed]",
      "text/plain": [
       "<Figure size 640x480 with 2 Axes>"
      ]
     },
     "metadata": {},
     "output_type": "display_data"
    }
   ],
   "source": [
    "plt.figure()\n",
    " \n",
    "# adding first subplot\n",
    "plt.subplot(121)\n",
    "plt.imshow(features_v_pd_c, cmap = 'viridis' , interpolation = 'bilinear')\n",
    "plt.title( \"Heat Map Пациенты с \\n выпрямленными руками\" )\n",
    "\n",
    "plt.subplot(122)\n",
    "plt.imshow(features_h_pd_c, cmap = 'viridis' , interpolation = 'bilinear')\n",
    "plt.title( \"Heat Map Пациенты \\n в позе Хуторской\" )"
   ]
  },
  {
   "cell_type": "markdown",
   "id": "97fa6e3a",
   "metadata": {},
   "source": [
    "Я не уверена, что это хорошая идея, но добавим еще коэффициенты к этим сигналам. В дальнейшем я бы ими не пользовалась, потому что теоретически это то, что мы хотим выучить."
   ]
  },
  {
   "cell_type": "code",
   "execution_count": 8,
   "id": "6703064d",
   "metadata": {},
   "outputs": [],
   "source": [
    "Ah_coefficients = [1.64,2.49,1.34,0.44,0.45,0.29,1.47,0.26,0.48,2.10,0.08,2.51, -1.14,0.90,1.79,0.83,-0.84,0.85,1.31,1.65,0.76,2.15,\n",
    "0.58,2.09]\n",
    "Bh_coefficients = [3.31,-1.99,1.76,1.15,-1.03,0.96,1.78,-1.87,0.59,-2.88,-0.31,-2.56, -3.34,-0.58,0.16,-0.40,1.66,-0.25,0.60,-0.12,-0.48,1.89,3.56,5.30]\n",
    "Сh_coefficients = [0.38, -0.46,-1.31,1.30,0.86,-0.98,0.77,0.47, -0.29,-0.00,-0.44,-2.45, 0.47,0.06,-0.13,-1.24,0.01,3.27,0.47,0.21,-0.48,-0.03,1.00,3.06]\n",
    "Dh_coefficients = [-0.07,1.13,-0.09,-0.27,0.95, 1.47,1.25,-0.08,1.14,1.13,-1.25,1.93, -1.43,1.49,0.54,1.16,-0.02,0.08,3.72,1.67,0.46,1.07,0.83,1.37]"
   ]
  },
  {
   "cell_type": "code",
   "execution_count": 9,
   "id": "9cb495e3",
   "metadata": {},
   "outputs": [],
   "source": [
    "Av_coefficients = [1.48,-2.09,0.16,1.02,-2.02,2.24,-0.05,0.04,1.28,-1.23,0.83,1.29, 2.91,-0.06,0.37,-0.89,0.60,-2.55,0.38,-0.69,1.039,1.21,0.49,0.39]\n",
    "Bv_coefficients = [1.35,-2.00,-1.37,1.54,1.35,4.26,-0.25,0.99,0.34,-0.34,3.06,5.01, 3.20,-0.51,-2.86,0.39,-1.82,2.08,-2.10,1.76,-1.59,2.18,1.16,2.59]\n",
    "Сv_coefficients = [1.45,1.34,-1.03,-0.37,0.97,1.80,-0.83,0.59,-0.43,1.00,1.72,-0.75, 2.81,-0.14,-1.87,-1.07,1.35,-0.18,-0.25,0.00,1.32,-1.33,1.16,2.22]\n",
    "Dv_coefficients = [0.19,0.35,0.89,1.79,0.23,-0.36,0.15,0.84,1.11,0.15,-0.32,1.66, 0.44,1.34,0.46,-0.25,-0.24,0.08,-1.25,0.88,1.52,0.38,0.03,-0.95]\n"
   ]
  },
  {
   "cell_type": "markdown",
   "id": "dee35d03",
   "metadata": {},
   "source": [
    "Сделаем преобразование как вы описываете в патенте на полученные сигналы. Построим гистограммы как в патенте. \n",
    "Здесь будем складывать две позы. возьмем только F1 & F2 соотвественно. \n",
    "\n",
    "Коэффициенты с 1 по 12 служат для того, чтобы при вычислении коэффициентов F1, F2, F3 и F4 учесть количество всплесков ЭМГ двух рук и двух ног пациента при записи в позе с выпрямленными на подлокотниках ладонями в трёх различных диапазонах частот. Эти 12 коэффициентов умножаются на соответствующие количества всплесков\n",
    "\n",
    "F1 = sum (Qn * A)"
   ]
  },
  {
   "cell_type": "code",
   "execution_count": 10,
   "id": "0aa5693d",
   "metadata": {},
   "outputs": [],
   "source": [
    "f1_features_sum = []\n",
    "f2_features_sum = []\n",
    "for i, l in enumerate(labels_pd_c):\n",
    "        weighted_sum_v = sum(features_v_pd_c [i]*Av_coefficients)\n",
    "        weighted_sum_h = sum(features_h_pd_c [i]*Ah_coefficients)\n",
    "        f1_features_sum.append(weighted_sum_v+weighted_sum_h)\n",
    "        weighted_f2_sum_v = sum(features_v_pd_c[i]*Bv_coefficients)\n",
    "        weighted_f2_sum_h = sum(features_h_pd_c [i]*Bh_coefficients)\n",
    "        f2_features_sum.append(weighted_f2_sum_v+weighted_f2_sum_h)"
   ]
  },
  {
   "cell_type": "code",
   "execution_count": 11,
   "id": "a3a93eeb",
   "metadata": {},
   "outputs": [
    {
     "data": {
      "image/png": "[encoded data removed]",
      "text/plain": [
       "<Figure size 1500x500 with 2 Axes>"
      ]
     },
     "metadata": {},
     "output_type": "display_data"
    }
   ],
   "source": [
    "f,a = plt.subplots(1,2)\n",
    "f.set_figheight(5)\n",
    "f.set_figwidth(15)\n",
    "a[0].hist(f1_features_sum[:8],20, alpha=0.3, label='F1 Control', color='g')\n",
    "a[0].hist(f1_features_sum[8:], 40, alpha=0.3, label='F1 PD',color='r')\n",
    "a[0].legend(loc='upper right')\n",
    "a[0].set_title('Сумма F1 должна отличать доклиническую  \\n стадию БП от здоровых добровольцев.')\n",
    "a[1].hist(f2_features_sum[:8],20, alpha=0.3, label='F2 Control', color='g')\n",
    "a[1].hist(f2_features_sum[8:], 40, alpha=0.3, label='F2 PD',color='r')\n",
    "a[1].legend(loc='upper right')\n",
    "a[1].set_title('Сумма F2 должна отличать первую \\n стадию БП от контроля.')\n",
    "plt.tight_layout()\n",
    "plt.show()"
   ]
  },
  {
   "cell_type": "markdown",
   "id": "34f3940f",
   "metadata": {},
   "source": [
    "По гистограммам мы видим, что идеального разделения нету. Особенно, в случае  F2."
   ]
  },
  {
   "cell_type": "markdown",
   "id": "a63a193b",
   "metadata": {},
   "source": [
    "## XGBoost trees\n",
    "Теперь попробуем сделать все, что можно, с деревьями. Здесь я следую рекомендациям по маленьким датасетам [отсюда](https://www.kaggle.com/code/rafjaa/dealing-with-very-small-datasets/notebook). \n",
    "\n",
    "Во всех случаях я использую кросс-валидацию, т.о, результаты проверены на множестве случайных выборок. "
   ]
  },
  {
   "cell_type": "markdown",
   "id": "3faf55b1",
   "metadata": {},
   "source": [
    "Для деревьев, рекомендации:\n",
    "    \n",
    "* Restricting the maximum depth of trees via max_depth (low values)\n",
    "* Making the model more conservative via gamma and eta (high values)\n",
    "* L1 and L2 regularization via reg_alpha and reg_lambda (high values)"
   ]
  },
  {
   "cell_type": "code",
   "execution_count": 12,
   "id": "c16e27f3",
   "metadata": {},
   "outputs": [],
   "source": [
    "from numpy import mean\n",
    "from numpy import std\n",
    "from sklearn.datasets import make_classification\n",
    "from sklearn.model_selection import cross_val_score\n",
    "from sklearn.model_selection import RepeatedStratifiedKFold\n",
    "from xgboost import XGBClassifier\n",
    "from matplotlib import pyplot"
   ]
  },
  {
   "cell_type": "code",
   "execution_count": 14,
   "id": "f53be0f3",
   "metadata": {},
   "outputs": [],
   "source": [
    "# Зададим необходимые параметры и функции для деревьев\n",
    "# Тут по сто повторов разделения данных, чтобы получить точные результаты\n",
    "\n",
    "# get a list of models to evaluate\n",
    "\n",
    "\n",
    "def get_models(gamma=2,  eta=0.8,  reg_alpha=0.7, reg_lambda=0.7):\n",
    "\tmodels = dict()\n",
    "\ttrees = [1,2, 5, 10, 50]\n",
    "\tfor n in trees:\n",
    "\t\tmodels[str(n)] = XGBClassifier(n_estimators=n,  gamma=gamma,  eta=eta,  reg_alpha=reg_alpha, reg_lambda=reg_lambda)\n",
    "\treturn models\n",
    " \n",
    "# evaluate a give model using cross-validation\n",
    "def evaluate_model(model, X, y,random_state=1):\n",
    "\tcv = RepeatedStratifiedKFold(n_splits=20, n_repeats=100, random_state=random_state)\n",
    "\tscores = cross_val_score(model, X, y, scoring='accuracy', cv=cv, n_jobs=-1)\n",
    "\treturn scores\n"
   ]
  },
  {
   "cell_type": "markdown",
   "id": "ed3b61a2",
   "metadata": {},
   "source": [
    "Проверим деревья на наших данных. Здесь я не применяю коэффициенты, потому что деревья должны и без них справится."
   ]
  },
  {
   "cell_type": "code",
   "execution_count": 18,
   "id": "0537460f",
   "metadata": {},
   "outputs": [
    {
     "name": "stdout",
     "output_type": "stream",
     "text": [
      "(28, 24)\n"
     ]
    }
   ],
   "source": [
    "X = features_v_pd_c +  features_h_pd_c\n",
    "print(X.shape)"
   ]
  },
  {
   "cell_type": "code",
   "execution_count": 27,
   "id": "484892be",
   "metadata": {},
   "outputs": [
    {
     "name": "stdout",
     "output_type": "stream",
     "text": [
      ">1 0.683 (0.388)\n",
      ">2 0.716 (0.352)\n",
      ">5 0.679 (0.371)\n",
      ">10 0.679 (0.371)\n",
      ">50 0.679 (0.371)\n"
     ]
    },
    {
     "data": {
      "image/png": "[encoded data removed]",
      "text/plain": [
       "<Figure size 640x480 with 1 Axes>"
      ]
     },
     "metadata": {},
     "output_type": "display_data"
    }
   ],
   "source": [
    "import warnings\n",
    "warnings.filterwarnings('ignore')\n",
    "models = get_models()\n",
    "# evaluate the models and store results\n",
    "results, names = list(), list()\n",
    "for name, model in models.items():\n",
    "\tscores = evaluate_model(model, X, labels_pd_c,0)\n",
    "\tresults.append(scores)\n",
    "\tnames.append(name)\n",
    "\tprint('>%s %.3f (%.3f)' % (name, mean(scores), std(scores)))\n",
    "# plot model performance for comparison\n",
    "pyplot.boxplot(results, labels=names, showmeans=True)\n",
    "pyplot.title('Что деревья могут дать на этих данных')\n",
    "pyplot.show()"
   ]
  },
  {
   "cell_type": "markdown",
   "id": "5ef0a22d",
   "metadata": {},
   "source": [
    "Результаты довольно плохие.\n",
    "Если я уберу регуляризацию, будут получше, но там больше шансов, что эксперименты на новых данных хуже повторятся."
   ]
  },
  {
   "cell_type": "code",
   "execution_count": 28,
   "id": "53bcbbc2",
   "metadata": {},
   "outputs": [
    {
     "name": "stdout",
     "output_type": "stream",
     "text": [
      ">1 0.636 (0.391)\n",
      ">2 0.627 (0.389)\n",
      ">5 0.671 (0.393)\n",
      ">10 0.723 (0.374)\n",
      ">50 0.830 (0.286)\n"
     ]
    },
    {
     "data": {
      "image/png": "[encoded data removed]",
      "text/plain": [
       "<Figure size 640x480 with 1 Axes>"
      ]
     },
     "metadata": {},
     "output_type": "display_data"
    }
   ],
   "source": [
    "models = get_models(0, 0.3,0,1)\n",
    "# evaluate the models and store results\n",
    "results, names = list(), list()\n",
    "for name, model in models.items():\n",
    "\tscores = evaluate_model(model, X, labels_pd_c,0)\n",
    "\tresults.append(scores)\n",
    "\tnames.append(name)\n",
    "\tprint('>%s %.3f (%.3f)' % (name, mean(scores), std(scores)))\n",
    "# plot model performance for comparison\n",
    "pyplot.boxplot(results, labels=names, showmeans=True)\n",
    "pyplot.title('Что деревья  без регуляризации могут дать на этих данных')\n",
    "pyplot.show()"
   ]
  },
  {
   "cell_type": "markdown",
   "id": "70fbe2cc",
   "metadata": {},
   "source": [
    "Ну вот собственно что мы можем сделать с деревьями на таком маленьком датасете.\n",
    "Еще есть интересные методы увеличения выборок вот такие, можно попробовать:\n",
    "\n",
    "5. Balance the dataset with synthetic samples (SMOTE)\n",
    "\n",
    "SMOTE (Synthetic Minority Oversampling TEchnique) consists of synthesizing elements for the minority class, based on those that already exist. It works randomly picingk a point from the minority class and computing the k-nearest neighbors for this point. The synthetic points are added between the chosen point and its neighbors.\n",
    "\n",
    "По-хорошему, надо разделять данные, и пробовать SMOTE только на данных что есть\n"
   ]
  },
  {
   "cell_type": "code",
   "execution_count": 20,
   "id": "342651fb",
   "metadata": {},
   "outputs": [
    {
     "name": "stdout",
     "output_type": "stream",
     "text": [
      ">1 0.871 (0.233)\n",
      ">2 0.871 (0.233)\n",
      ">5 0.877 (0.227)\n",
      ">10 0.876 (0.230)\n",
      ">50 0.881 (0.222)\n"
     ]
    },
    {
     "data": {
      "image/png": "[encoded data removed]",
      "text/plain": [
       "<Figure size 640x480 with 1 Axes>"
      ]
     },
     "metadata": {},
     "output_type": "display_data"
    }
   ],
   "source": [
    "from imblearn.over_sampling import SMOTE\n",
    "models = get_models(0, 0.3,0,1)\n",
    "oversample = SMOTE()\n",
    "X_sm, y_sm = oversample.fit_resample(X, labels_pd_c)\n",
    "# evaluate the models and store results\n",
    "results, names = list(), list()\n",
    "for name, model in models.items():\n",
    "\tscores = evaluate_model(model, X_sm, y_sm,0)\n",
    "\tresults.append(scores)\n",
    "\tnames.append(name)\n",
    "\tprint('>%s %.3f (%.3f)' % (name, mean(scores), std(scores)))\n",
    "# plot model performance for comparison\n",
    "pyplot.boxplot(results, labels=names, showmeans=True)\n",
    "pyplot.title('Что деревья  без регуляризации могут дать на этих данных')\n",
    "pyplot.show()"
   ]
  },
  {
   "cell_type": "markdown",
   "id": "43a742b0",
   "metadata": {},
   "source": [
    "## СNNs\n",
    "Теперь можно попробовать нейронную сеть на этих данных.. Поскольку их немного, нейронная сеть должна быть максимально простой."
   ]
  },
  {
   "cell_type": "markdown",
   "id": "1abfbbb5",
   "metadata": {},
   "source": [
    "Задаю сеть прямо здесь, и тренирую ее в этом блокноте,потому что мало данных, и мы можем себе позволить это сделать.\n",
    "Я задаю сеть без конволюций, потому что в нашем эксперименте они не оправданы ( мы можем обсудить, сеть с конволюцией я тоже попробовала уже). Т.о, это простейшая нейронная сеть из двух слоев. "
   ]
  },
  {
   "cell_type": "code",
   "execution_count": 21,
   "id": "884fe1d2",
   "metadata": {},
   "outputs": [],
   "source": [
    "import numpy as np\n",
    "import torch\n",
    "import torch.nn as nn\n",
    "import torch.optim as optim\n",
    "from torch.utils.data import Dataset, DataLoader\n",
    "\n",
    "# define the model using pytorch https://github.com/harryjdavies/Python1D_CNNs/blob/master/CCN1D_pytorch_activity.py\n",
    "\n",
    "n_features=48 # 1 dimension\n",
    "n_classes = 1 # binary classification PD / Control\n",
    "batch_size = 4\n",
    "\n",
    "class Vanilla_Net(nn.Module):\n",
    "    def __init__(self):\n",
    "        super().__init__()\n",
    "        self.layer1 = nn.Linear(in_features = n_features, out_features = 128)\n",
    "        self.relu = nn.ReLU()\n",
    "        self.dropout = nn.Dropout(0.5)\n",
    "        self.layer2 =  nn.Linear(128,256)\n",
    "        self.layer3 =  nn.Linear(256,n_classes)\n",
    "        self.sigm = nn.Sigmoid()\n",
    "\n",
    "    def forward(self, x):\n",
    "        out = self.layer1(x)\n",
    "        out = self.relu(out)\n",
    "        out = self.dropout(out)\n",
    "        out = self.layer2(out)\n",
    "        out = self.relu(out)\n",
    "        out = self.dropout(out)\n",
    "        out = self.layer3(out)\n",
    "        out = self.sigm(out)\n",
    "        return out\n"
   ]
  },
  {
   "cell_type": "code",
   "execution_count": 22,
   "id": "608302f8",
   "metadata": {},
   "outputs": [
    {
     "name": "stdout",
     "output_type": "stream",
     "text": [
      "Vanilla_Net(\n",
      "  (layer1): Linear(in_features=48, out_features=128, bias=True)\n",
      "  (relu): ReLU()\n",
      "  (dropout): Dropout(p=0.5, inplace=False)\n",
      "  (layer2): Linear(in_features=128, out_features=256, bias=True)\n",
      "  (layer3): Linear(in_features=256, out_features=1, bias=True)\n",
      "  (sigm): Sigmoid()\n",
      ")\n"
     ]
    }
   ],
   "source": [
    "my_vanilla_net = Vanilla_Net()\n",
    "print(my_vanilla_net)"
   ]
  },
  {
   "cell_type": "code",
   "execution_count": 23,
   "id": "9d376de5",
   "metadata": {},
   "outputs": [],
   "source": [
    "# from torchviz import make_dot \n",
    "# make_dot(my_vanilla_net)"
   ]
  },
  {
   "cell_type": "markdown",
   "id": "953a2fbd",
   "metadata": {},
   "source": [
    "Я также написала даталоадер, чтобы подгружать наши данные. Вот он задан:"
   ]
  },
  {
   "cell_type": "code",
   "execution_count": 24,
   "id": "302b3475",
   "metadata": {},
   "outputs": [],
   "source": [
    "import torch\n",
    "import numpy as np\n",
    "\n",
    "\n",
    "def to_categorical(y, num_classes=None, dtype='float32'):\n",
    "    \"\"\"Converts a class vector (integers) to binary class matrix.\n",
    "    E.g. for use with categorical_crossentropy.\n",
    "    # Arguments\n",
    "        y: class vector to be converted into a matrix\n",
    "            (integers from 0 to num_classes).\n",
    "        num_classes: total number of classes.\n",
    "        dtype: The data type expected by the input, as a string\n",
    "            (`float32`, `float64`, `int32`...)\n",
    "    # Returns\n",
    "        A binary matrix representation of the input. The classes axis\n",
    "        is placed last.\n",
    "    # Example\n",
    "    ```python\n",
    "    # Consider an array of 5 labels out of a set of 3 classes {0, 1, 2}:\n",
    "    > labels\n",
    "    array([0, 2, 1, 2, 0])\n",
    "    # `to_categorical` converts this into a matrix with as many\n",
    "    # columns as there are classes. The number of rows\n",
    "    # stays the same.\n",
    "    > to_categorical(labels)\n",
    "    array([[ 1.,  0.,  0.],\n",
    "           [ 0.,  0.,  1.],\n",
    "           [ 0.,  1.,  0.],\n",
    "           [ 0.,  0.,  1.],\n",
    "           [ 1.,  0.,  0.]], dtype=float32)\n",
    "    ```\n",
    "    \"\"\"\n",
    "\n",
    "    y = np.array(y, dtype='int')\n",
    "    input_shape = y.shape\n",
    "    if input_shape and input_shape[-1] == 1 and len(input_shape) > 1:\n",
    "        input_shape = tuple(input_shape[:-1])\n",
    "    y = y.ravel()\n",
    "    if not num_classes:\n",
    "        num_classes = np.max(y) + 1\n",
    "    n = y.shape[0]\n",
    "    categorical = np.zeros((n, num_classes), dtype=dtype)\n",
    "    categorical[np.arange(n), y] = 1\n",
    "    output_shape = input_shape + (num_classes,)\n",
    "    categorical = np.reshape(categorical, output_shape)\n",
    "    return categorical\n",
    "\n",
    "\n",
    "class Dataset(torch.utils.data.Dataset):\n",
    "    def __init__(self, list_IDs, labels):\n",
    "        'Initialization'\n",
    "        self.labels = labels\n",
    "        self.list_IDs = list_IDs\n",
    "    def __len__(self):\n",
    "        'Denotes the total number of samples'\n",
    "        return len(self.list_IDs)\n",
    "    def __getitem__(self, index):\n",
    "        'Generates one sample of data'\n",
    "        # Select sample\n",
    "        ID = self.list_IDs[index]\n",
    "\n",
    "        # Load data and get label\n",
    "        X = ID\n",
    "        y = self.labels[index] #to_categorical(self.labels[index], 2)\n",
    "\n",
    "        return X, y"
   ]
  },
  {
   "cell_type": "markdown",
   "id": "ce630df2",
   "metadata": {},
   "source": [
    "Для этой сети, я сразу же сохранила данные. Я не использую коэффициенты, это просто данные из позы с выпрямленными руками и данные с позы Хуторской, просуммированные. Мы считали Х выше в этом блокноте."
   ]
  },
  {
   "cell_type": "code",
   "execution_count": 25,
   "id": "0cd7fd9e",
   "metadata": {},
   "outputs": [],
   "source": [
    "params = {'batch_size': 16,\n",
    "          'shuffle': True,\n",
    "          'num_workers': 0}\n",
    "max_epochs = 150\n",
    "#total_step = len(X)\n",
    "\n",
    "# CUDA for PyTorch\n",
    "use_cuda = torch.cuda.is_available()\n",
    "device = torch.device(\"cuda:0\" if use_cuda else \"cpu\")"
   ]
  },
  {
   "cell_type": "code",
   "execution_count": 36,
   "id": "49881a2a",
   "metadata": {},
   "outputs": [
    {
     "name": "stdout",
     "output_type": "stream",
     "text": [
      "(29, 24) 29\n"
     ]
    }
   ],
   "source": [
    "# Generators\n",
    "X = features_h_et_c# np.hstack((features_h_et_c, features_v_et_c))#features_v_pd_c# +  features_h_pd_c\n",
    "print(X.shape, len(labels_et_c))\n",
    "#training_set = Dataset(X, labels_et_c)\n",
    "#training_generator = torch.utils.data.DataLoader(training_set, **params)\n",
    "y = np.array(labels_et_c)"
   ]
  },
  {
   "cell_type": "markdown",
   "id": "c37b5d19",
   "metadata": {},
   "source": [
    "#### def binary_acc(y_pred, y_test):\n",
    "    y_pred_tag = torch.round(torch.sigmoid(y_pred))\n",
    "\n",
    "    correct_results_sum = (y_pred_tag == y_test).sum().float()\n",
    "    acc = correct_results_sum/y_test.shape[0]\n",
    "    acc = torch.round(acc * 100)\n",
    "    \n",
    "    return acc"
   ]
  },
  {
   "cell_type": "code",
   "execution_count": 47,
   "id": "a0c04fa3",
   "metadata": {},
   "outputs": [
    {
     "ename": "RuntimeError",
     "evalue": "mat1 and mat2 shapes cannot be multiplied (16x48 and 24x128)",
     "output_type": "error",
     "traceback": [
      "\u001b[1;31m---------------------------------------------------------------------------\u001b[0m",
      "\u001b[1;31mRuntimeError\u001b[0m                              Traceback (most recent call last)",
      "Cell \u001b[1;32mIn[47], line 20\u001b[0m\n\u001b[0;32m     17\u001b[0m         local_batch, local_labels \u001b[38;5;241m=\u001b[39m local_batch\u001b[38;5;241m.\u001b[39mto(device), local_labels\u001b[38;5;241m.\u001b[39mto(device) \u001b[38;5;66;03m#torch.unsqueeze(local_batch,1)\u001b[39;00m\n\u001b[0;32m     18\u001b[0m \u001b[38;5;66;03m#         print(local_batch.shape, local_labels.shape, local_labels)\u001b[39;00m\n\u001b[0;32m     19\u001b[0m         \u001b[38;5;66;03m# Run the forward pass\u001b[39;00m\n\u001b[1;32m---> 20\u001b[0m         outputs \u001b[38;5;241m=\u001b[39m \u001b[43mmodel\u001b[49m\u001b[43m(\u001b[49m\u001b[43mlocal_batch\u001b[49m\u001b[38;5;241;43m.\u001b[39;49m\u001b[43mfloat\u001b[49m\u001b[43m(\u001b[49m\u001b[43m)\u001b[49m\u001b[43m)\u001b[49m\n\u001b[0;32m     21\u001b[0m \u001b[38;5;66;03m#       print(outputs,local_labels)\u001b[39;00m\n\u001b[0;32m     22\u001b[0m         outputs \u001b[38;5;241m=\u001b[39m outputs\u001b[38;5;241m.\u001b[39msqueeze()\n",
      "File \u001b[1;32m~\\Documents\\projects\\kotelnikov\\.venv\\lib\\site-packages\\torch\\nn\\modules\\module.py:1194\u001b[0m, in \u001b[0;36mModule._call_impl\u001b[1;34m(self, *input, **kwargs)\u001b[0m\n\u001b[0;32m   1190\u001b[0m \u001b[38;5;66;03m# If we don't have any hooks, we want to skip the rest of the logic in\u001b[39;00m\n\u001b[0;32m   1191\u001b[0m \u001b[38;5;66;03m# this function, and just call forward.\u001b[39;00m\n\u001b[0;32m   1192\u001b[0m \u001b[38;5;28;01mif\u001b[39;00m \u001b[38;5;129;01mnot\u001b[39;00m (\u001b[38;5;28mself\u001b[39m\u001b[38;5;241m.\u001b[39m_backward_hooks \u001b[38;5;129;01mor\u001b[39;00m \u001b[38;5;28mself\u001b[39m\u001b[38;5;241m.\u001b[39m_forward_hooks \u001b[38;5;129;01mor\u001b[39;00m \u001b[38;5;28mself\u001b[39m\u001b[38;5;241m.\u001b[39m_forward_pre_hooks \u001b[38;5;129;01mor\u001b[39;00m _global_backward_hooks\n\u001b[0;32m   1193\u001b[0m         \u001b[38;5;129;01mor\u001b[39;00m _global_forward_hooks \u001b[38;5;129;01mor\u001b[39;00m _global_forward_pre_hooks):\n\u001b[1;32m-> 1194\u001b[0m     \u001b[38;5;28;01mreturn\u001b[39;00m \u001b[43mforward_call\u001b[49m\u001b[43m(\u001b[49m\u001b[38;5;241;43m*\u001b[39;49m\u001b[38;5;28;43minput\u001b[39;49m\u001b[43m,\u001b[49m\u001b[43m \u001b[49m\u001b[38;5;241;43m*\u001b[39;49m\u001b[38;5;241;43m*\u001b[39;49m\u001b[43mkwargs\u001b[49m\u001b[43m)\u001b[49m\n\u001b[0;32m   1195\u001b[0m \u001b[38;5;66;03m# Do not call functions when jit is used\u001b[39;00m\n\u001b[0;32m   1196\u001b[0m full_backward_hooks, non_full_backward_hooks \u001b[38;5;241m=\u001b[39m [], []\n",
      "Cell \u001b[1;32mIn[42], line 24\u001b[0m, in \u001b[0;36mVanilla_Net.forward\u001b[1;34m(self, x)\u001b[0m\n\u001b[0;32m     23\u001b[0m \u001b[38;5;28;01mdef\u001b[39;00m \u001b[38;5;21mforward\u001b[39m(\u001b[38;5;28mself\u001b[39m, x):\n\u001b[1;32m---> 24\u001b[0m     out \u001b[38;5;241m=\u001b[39m \u001b[38;5;28;43mself\u001b[39;49m\u001b[38;5;241;43m.\u001b[39;49m\u001b[43mlayer1\u001b[49m\u001b[43m(\u001b[49m\u001b[43mx\u001b[49m\u001b[43m)\u001b[49m\n\u001b[0;32m     25\u001b[0m     out \u001b[38;5;241m=\u001b[39m \u001b[38;5;28mself\u001b[39m\u001b[38;5;241m.\u001b[39mrelu(out)\n\u001b[0;32m     26\u001b[0m     out \u001b[38;5;241m=\u001b[39m \u001b[38;5;28mself\u001b[39m\u001b[38;5;241m.\u001b[39mdropout(out)\n",
      "File \u001b[1;32m~\\Documents\\projects\\kotelnikov\\.venv\\lib\\site-packages\\torch\\nn\\modules\\module.py:1194\u001b[0m, in \u001b[0;36mModule._call_impl\u001b[1;34m(self, *input, **kwargs)\u001b[0m\n\u001b[0;32m   1190\u001b[0m \u001b[38;5;66;03m# If we don't have any hooks, we want to skip the rest of the logic in\u001b[39;00m\n\u001b[0;32m   1191\u001b[0m \u001b[38;5;66;03m# this function, and just call forward.\u001b[39;00m\n\u001b[0;32m   1192\u001b[0m \u001b[38;5;28;01mif\u001b[39;00m \u001b[38;5;129;01mnot\u001b[39;00m (\u001b[38;5;28mself\u001b[39m\u001b[38;5;241m.\u001b[39m_backward_hooks \u001b[38;5;129;01mor\u001b[39;00m \u001b[38;5;28mself\u001b[39m\u001b[38;5;241m.\u001b[39m_forward_hooks \u001b[38;5;129;01mor\u001b[39;00m \u001b[38;5;28mself\u001b[39m\u001b[38;5;241m.\u001b[39m_forward_pre_hooks \u001b[38;5;129;01mor\u001b[39;00m _global_backward_hooks\n\u001b[0;32m   1193\u001b[0m         \u001b[38;5;129;01mor\u001b[39;00m _global_forward_hooks \u001b[38;5;129;01mor\u001b[39;00m _global_forward_pre_hooks):\n\u001b[1;32m-> 1194\u001b[0m     \u001b[38;5;28;01mreturn\u001b[39;00m \u001b[43mforward_call\u001b[49m\u001b[43m(\u001b[49m\u001b[38;5;241;43m*\u001b[39;49m\u001b[38;5;28;43minput\u001b[39;49m\u001b[43m,\u001b[49m\u001b[43m \u001b[49m\u001b[38;5;241;43m*\u001b[39;49m\u001b[38;5;241;43m*\u001b[39;49m\u001b[43mkwargs\u001b[49m\u001b[43m)\u001b[49m\n\u001b[0;32m   1195\u001b[0m \u001b[38;5;66;03m# Do not call functions when jit is used\u001b[39;00m\n\u001b[0;32m   1196\u001b[0m full_backward_hooks, non_full_backward_hooks \u001b[38;5;241m=\u001b[39m [], []\n",
      "File \u001b[1;32m~\\Documents\\projects\\kotelnikov\\.venv\\lib\\site-packages\\torch\\nn\\modules\\linear.py:114\u001b[0m, in \u001b[0;36mLinear.forward\u001b[1;34m(self, input)\u001b[0m\n\u001b[0;32m    113\u001b[0m \u001b[38;5;28;01mdef\u001b[39;00m \u001b[38;5;21mforward\u001b[39m(\u001b[38;5;28mself\u001b[39m, \u001b[38;5;28minput\u001b[39m: Tensor) \u001b[38;5;241m-\u001b[39m\u001b[38;5;241m>\u001b[39m Tensor:\n\u001b[1;32m--> 114\u001b[0m     \u001b[38;5;28;01mreturn\u001b[39;00m \u001b[43mF\u001b[49m\u001b[38;5;241;43m.\u001b[39;49m\u001b[43mlinear\u001b[49m\u001b[43m(\u001b[49m\u001b[38;5;28;43minput\u001b[39;49m\u001b[43m,\u001b[49m\u001b[43m \u001b[49m\u001b[38;5;28;43mself\u001b[39;49m\u001b[38;5;241;43m.\u001b[39;49m\u001b[43mweight\u001b[49m\u001b[43m,\u001b[49m\u001b[43m \u001b[49m\u001b[38;5;28;43mself\u001b[39;49m\u001b[38;5;241;43m.\u001b[39;49m\u001b[43mbias\u001b[49m\u001b[43m)\u001b[49m\n",
      "\u001b[1;31mRuntimeError\u001b[0m: mat1 and mat2 shapes cannot be multiplied (16x48 and 24x128)"
     ]
    }
   ],
   "source": [
    "# model\n",
    "model = my_vanilla_net\n",
    "model = model.float()\n",
    "acc_list_epoch = []\n",
    "# Loss and optimizer\n",
    "criterion = nn.CrossEntropyLoss()\n",
    "optimizer = torch.optim.Adam(model.parameters(), lr=0.001)\n",
    "# training\n",
    "# Loop over epochs\n",
    "for epoch in range(max_epochs):\n",
    "    epoch_loss = 0\n",
    "    epoch_acc = 0\n",
    "\n",
    "    # Training\n",
    "    for local_batch, local_labels in training_generator:\n",
    "        # Transfer to GPU\n",
    "        local_batch, local_labels = local_batch.to(device), local_labels.to(device) #torch.unsqueeze(local_batch,1)\n",
    "#         print(local_batch.shape, local_labels.shape, local_labels)\n",
    "        # Run the forward pass\n",
    "        outputs = model(local_batch.float())\n",
    "#       print(outputs,local_labels)\n",
    "        outputs = outputs.squeeze()\n",
    "        loss = criterion(outputs, local_labels.float())\n",
    "        epoch_loss += loss.item()\n",
    "        # Backprop and perform Adam optimisation\n",
    "        optimizer.zero_grad()\n",
    "        loss.backward()\n",
    "        optimizer.step()\n",
    "         # Track the accuracy\n",
    "        total = local_batch.size(0)\n",
    "        acc = binary_acc(outputs, local_labels)       \n",
    "        epoch_acc += acc.item()\n",
    "    print(f'Epoch {epoch+0:03}: | Loss: {epoch_loss/len(training_generator):.5f} | Acc: {epoch_acc/len(training_generator):.3f}')\n",
    "    acc_list_epoch.append(epoch_acc/len(training_generator))\n",
    "plt.title('Training Accuracy')\n",
    "plt.ylabel('Accuracy')\n",
    "plt.xlabel('Epoch')\n",
    "plt.grid(True)\n",
    "plt.autoscale(axis='x', tight=True)\n",
    "plt.plot(acc_list_epoch)\n",
    "plt.show()\n",
    "plt.savefig('train_accuracy.png')\n"
   ]
  },
  {
   "cell_type": "markdown",
   "id": "8bb4c96a",
   "metadata": {},
   "source": [
    "Попробуем сделать кросс-валидацию для нашей модели.\n",
    "Этот кусочек кода был вдохновлен вот [этим](https://machinelearningmastery.com/building-a-binary-classification-model-in-pytorch/) блог постом."
   ]
  },
  {
   "cell_type": "code",
   "execution_count": 27,
   "id": "47231721",
   "metadata": {},
   "outputs": [],
   "source": [
    "import copy\n",
    "import numpy as np\n",
    "import torch\n",
    "import torch.nn as nn\n",
    "import torch.optim as optim\n",
    "import tqdm\n",
    " \n",
    "def model_train(model, X_train, y_train, X_val, y_val, device='cpu'):\n",
    "    # loss function and optimizer\n",
    "    loss_fn = nn.BCELoss()  # binary cross entropy\n",
    "    optimizer = optim.Adam(model.parameters(), lr=0.001)\n",
    " \n",
    "    n_epochs =200   # number of epochs to run\n",
    "    batch_size = 10  # size of each batch\n",
    "    batch_start = torch.arange(0, len(X_train), batch_size)\n",
    " \n",
    "    # Hold the best model\n",
    "    best_acc = - np.inf   # init to negative infinity\n",
    "    best_weights = None\n",
    " \n",
    "    for epoch in range(n_epochs):\n",
    "        model.train()\n",
    "        with tqdm.tqdm(batch_start, unit=\"batch\", mininterval=0, disable=True) as bar:\n",
    "            bar.set_description(f\"Epoch {epoch}\")\n",
    "            for start in bar:\n",
    "                # take a batch\n",
    "                X_batch = X_train[start:start+batch_size]\n",
    "                y_batch = y_train[start:start+batch_size]\n",
    "                X_batch = torch.from_numpy(X_batch).to(device)\n",
    "                y_batch = torch.from_numpy(y_batch).to(device) \n",
    "                # forward pass\n",
    "                y_pred = model(X_batch.float())\n",
    "                loss = loss_fn(y_pred, torch.unsqueeze(y_batch,1).float())\n",
    "                # backward pass\n",
    "                optimizer.zero_grad()\n",
    "                loss.backward()\n",
    "                # update weights\n",
    "                optimizer.step()\n",
    "                # print progress\n",
    "                acc = (y_pred.round() == y_batch).float().mean()\n",
    "                bar.set_postfix(\n",
    "                    loss=float(loss),\n",
    "                    acc=float(acc)\n",
    "                )\n",
    "        # evaluate accuracy at end of each epoch\n",
    "        model.eval()\n",
    "        y_pred = model(torch.from_numpy(X_val).float())\n",
    "        acc = (y_pred.round() == torch.unsqueeze(torch.from_numpy(y_val),1).float()).float().mean()\n",
    "        acc = float(acc)\n",
    "        if acc > best_acc:\n",
    "            best_acc = acc\n",
    "            #best_weights = copy.deepcopy(model.state_dict())\n",
    "    # restore model and return best accuracy\n",
    "    model.load_state_dict(best_weights)\n",
    "    return best_acc"
   ]
  },
  {
   "cell_type": "code",
   "execution_count": 58,
   "id": "97a71e44",
   "metadata": {},
   "outputs": [
    {
     "name": "stderr",
     "output_type": "stream",
     "text": [
      "C:\\Users\\KHOKHLOVAM\\Documents\\projects\\kotelnikov\\.venv\\lib\\site-packages\\sklearn\\model_selection\\_split.py:700: UserWarning: The least populated class in y has only 8 members, which is less than n_splits=20.\n",
      "  warnings.warn(\n"
     ]
    },
    {
     "name": "stdout",
     "output_type": "stream",
     "text": [
      "Accuracy (vanilla model): 0.50\n",
      "Accuracy (vanilla model): 0.50\n",
      "Accuracy (vanilla model): 0.50\n",
      "Accuracy (vanilla model): 0.50\n",
      "Accuracy (vanilla model): 0.50\n",
      "Accuracy (vanilla model): 0.50\n",
      "Accuracy (vanilla model): 0.50\n",
      "Accuracy (vanilla model): 0.50\n",
      "Accuracy (vanilla model): 1.00\n",
      "Accuracy (vanilla model): 1.00\n",
      "Accuracy (vanilla model): 1.00\n",
      "Accuracy (vanilla model): 1.00\n",
      "Accuracy (vanilla model): 1.00\n",
      "Accuracy (vanilla model): 1.00\n",
      "Accuracy (vanilla model): 1.00\n",
      "Accuracy (vanilla model): 1.00\n",
      "Accuracy (vanilla model): 1.00\n",
      "Accuracy (vanilla model): 1.00\n",
      "Accuracy (vanilla model): 1.00\n",
      "Accuracy (vanilla model): 1.00\n"
     ]
    },
    {
     "name": "stderr",
     "output_type": "stream",
     "text": [
      "C:\\Users\\KHOKHLOVAM\\Documents\\projects\\kotelnikov\\.venv\\lib\\site-packages\\sklearn\\model_selection\\_split.py:700: UserWarning: The least populated class in y has only 8 members, which is less than n_splits=20.\n",
      "  warnings.warn(\n"
     ]
    },
    {
     "name": "stdout",
     "output_type": "stream",
     "text": [
      "Accuracy (vanilla model): 0.50\n",
      "Accuracy (vanilla model): 0.50\n",
      "Accuracy (vanilla model): 0.50\n",
      "Accuracy (vanilla model): 0.50\n",
      "Accuracy (vanilla model): 0.50\n",
      "Accuracy (vanilla model): 0.50\n",
      "Accuracy (vanilla model): 0.50\n",
      "Accuracy (vanilla model): 0.50\n",
      "Accuracy (vanilla model): 1.00\n",
      "Accuracy (vanilla model): 1.00\n",
      "Accuracy (vanilla model): 1.00\n",
      "Accuracy (vanilla model): 1.00\n",
      "Accuracy (vanilla model): 1.00\n",
      "Accuracy (vanilla model): 1.00\n",
      "Accuracy (vanilla model): 1.00\n",
      "Accuracy (vanilla model): 1.00\n",
      "Accuracy (vanilla model): 1.00\n",
      "Accuracy (vanilla model): 1.00\n",
      "Accuracy (vanilla model): 1.00\n",
      "Accuracy (vanilla model): 1.00\n"
     ]
    },
    {
     "name": "stderr",
     "output_type": "stream",
     "text": [
      "C:\\Users\\KHOKHLOVAM\\Documents\\projects\\kotelnikov\\.venv\\lib\\site-packages\\sklearn\\model_selection\\_split.py:700: UserWarning: The least populated class in y has only 8 members, which is less than n_splits=20.\n",
      "  warnings.warn(\n"
     ]
    },
    {
     "name": "stdout",
     "output_type": "stream",
     "text": [
      "Accuracy (vanilla model): 0.50\n",
      "Accuracy (vanilla model): 0.50\n",
      "Accuracy (vanilla model): 0.50\n",
      "Accuracy (vanilla model): 0.50\n",
      "Accuracy (vanilla model): 0.50\n",
      "Accuracy (vanilla model): 0.50\n",
      "Accuracy (vanilla model): 0.50\n",
      "Accuracy (vanilla model): 0.50\n",
      "Accuracy (vanilla model): 1.00\n",
      "Accuracy (vanilla model): 1.00\n",
      "Accuracy (vanilla model): 1.00\n",
      "Accuracy (vanilla model): 1.00\n",
      "Accuracy (vanilla model): 1.00\n",
      "Accuracy (vanilla model): 1.00\n",
      "Accuracy (vanilla model): 1.00\n",
      "Accuracy (vanilla model): 1.00\n",
      "Accuracy (vanilla model): 1.00\n",
      "Accuracy (vanilla model): 1.00\n",
      "Accuracy (vanilla model): 1.00\n",
      "Accuracy (vanilla model): 1.00\n"
     ]
    },
    {
     "name": "stderr",
     "output_type": "stream",
     "text": [
      "C:\\Users\\KHOKHLOVAM\\Documents\\projects\\kotelnikov\\.venv\\lib\\site-packages\\sklearn\\model_selection\\_split.py:700: UserWarning: The least populated class in y has only 8 members, which is less than n_splits=20.\n",
      "  warnings.warn(\n"
     ]
    },
    {
     "name": "stdout",
     "output_type": "stream",
     "text": [
      "Accuracy (vanilla model): 0.50\n",
      "Accuracy (vanilla model): 0.50\n",
      "Accuracy (vanilla model): 0.50\n",
      "Accuracy (vanilla model): 0.50\n",
      "Accuracy (vanilla model): 0.50\n",
      "Accuracy (vanilla model): 0.50\n",
      "Accuracy (vanilla model): 0.50\n",
      "Accuracy (vanilla model): 0.50\n",
      "Accuracy (vanilla model): 1.00\n",
      "Accuracy (vanilla model): 1.00\n",
      "Accuracy (vanilla model): 1.00\n",
      "Accuracy (vanilla model): 1.00\n",
      "Accuracy (vanilla model): 1.00\n",
      "Accuracy (vanilla model): 1.00\n",
      "Accuracy (vanilla model): 1.00\n",
      "Accuracy (vanilla model): 1.00\n",
      "Accuracy (vanilla model): 1.00\n",
      "Accuracy (vanilla model): 1.00\n",
      "Accuracy (vanilla model): 1.00\n",
      "Accuracy (vanilla model): 1.00\n"
     ]
    },
    {
     "name": "stderr",
     "output_type": "stream",
     "text": [
      "C:\\Users\\KHOKHLOVAM\\Documents\\projects\\kotelnikov\\.venv\\lib\\site-packages\\sklearn\\model_selection\\_split.py:700: UserWarning: The least populated class in y has only 8 members, which is less than n_splits=20.\n",
      "  warnings.warn(\n"
     ]
    },
    {
     "name": "stdout",
     "output_type": "stream",
     "text": [
      "Accuracy (vanilla model): 0.50\n",
      "Accuracy (vanilla model): 0.50\n",
      "Accuracy (vanilla model): 0.50\n",
      "Accuracy (vanilla model): 0.50\n",
      "Accuracy (vanilla model): 0.50\n",
      "Accuracy (vanilla model): 0.50\n",
      "Accuracy (vanilla model): 0.50\n",
      "Accuracy (vanilla model): 0.50\n",
      "Accuracy (vanilla model): 1.00\n",
      "Accuracy (vanilla model): 1.00\n",
      "Accuracy (vanilla model): 1.00\n",
      "Accuracy (vanilla model): 1.00\n",
      "Accuracy (vanilla model): 1.00\n",
      "Accuracy (vanilla model): 1.00\n",
      "Accuracy (vanilla model): 1.00\n",
      "Accuracy (vanilla model): 1.00\n",
      "Accuracy (vanilla model): 1.00\n",
      "Accuracy (vanilla model): 1.00\n",
      "Accuracy (vanilla model): 1.00\n",
      "Accuracy (vanilla model): 1.00\n"
     ]
    },
    {
     "name": "stderr",
     "output_type": "stream",
     "text": [
      "C:\\Users\\KHOKHLOVAM\\Documents\\projects\\kotelnikov\\.venv\\lib\\site-packages\\sklearn\\model_selection\\_split.py:700: UserWarning: The least populated class in y has only 8 members, which is less than n_splits=20.\n",
      "  warnings.warn(\n"
     ]
    },
    {
     "name": "stdout",
     "output_type": "stream",
     "text": [
      "Accuracy (vanilla model): 0.50\n",
      "Accuracy (vanilla model): 0.50\n",
      "Accuracy (vanilla model): 0.50\n",
      "Accuracy (vanilla model): 0.50\n",
      "Accuracy (vanilla model): 0.50\n",
      "Accuracy (vanilla model): 0.50\n",
      "Accuracy (vanilla model): 0.50\n",
      "Accuracy (vanilla model): 0.50\n",
      "Accuracy (vanilla model): 1.00\n",
      "Accuracy (vanilla model): 1.00\n",
      "Accuracy (vanilla model): 1.00\n",
      "Accuracy (vanilla model): 1.00\n",
      "Accuracy (vanilla model): 1.00\n",
      "Accuracy (vanilla model): 1.00\n",
      "Accuracy (vanilla model): 1.00\n",
      "Accuracy (vanilla model): 1.00\n",
      "Accuracy (vanilla model): 1.00\n",
      "Accuracy (vanilla model): 1.00\n",
      "Accuracy (vanilla model): 1.00\n",
      "Accuracy (vanilla model): 1.00\n"
     ]
    },
    {
     "name": "stderr",
     "output_type": "stream",
     "text": [
      "C:\\Users\\KHOKHLOVAM\\Documents\\projects\\kotelnikov\\.venv\\lib\\site-packages\\sklearn\\model_selection\\_split.py:700: UserWarning: The least populated class in y has only 8 members, which is less than n_splits=20.\n",
      "  warnings.warn(\n"
     ]
    },
    {
     "name": "stdout",
     "output_type": "stream",
     "text": [
      "Accuracy (vanilla model): 0.50\n",
      "Accuracy (vanilla model): 0.50\n",
      "Accuracy (vanilla model): 0.50\n",
      "Accuracy (vanilla model): 0.50\n",
      "Accuracy (vanilla model): 0.50\n",
      "Accuracy (vanilla model): 0.50\n",
      "Accuracy (vanilla model): 0.50\n",
      "Accuracy (vanilla model): 0.50\n",
      "Accuracy (vanilla model): 1.00\n",
      "Accuracy (vanilla model): 1.00\n",
      "Accuracy (vanilla model): 1.00\n",
      "Accuracy (vanilla model): 1.00\n",
      "Accuracy (vanilla model): 1.00\n",
      "Accuracy (vanilla model): 1.00\n",
      "Accuracy (vanilla model): 1.00\n",
      "Accuracy (vanilla model): 1.00\n",
      "Accuracy (vanilla model): 1.00\n",
      "Accuracy (vanilla model): 1.00\n",
      "Accuracy (vanilla model): 1.00\n",
      "Accuracy (vanilla model): 1.00\n"
     ]
    },
    {
     "name": "stderr",
     "output_type": "stream",
     "text": [
      "C:\\Users\\KHOKHLOVAM\\Documents\\projects\\kotelnikov\\.venv\\lib\\site-packages\\sklearn\\model_selection\\_split.py:700: UserWarning: The least populated class in y has only 8 members, which is less than n_splits=20.\n",
      "  warnings.warn(\n"
     ]
    },
    {
     "name": "stdout",
     "output_type": "stream",
     "text": [
      "Accuracy (vanilla model): 0.50\n",
      "Accuracy (vanilla model): 0.50\n",
      "Accuracy (vanilla model): 0.50\n",
      "Accuracy (vanilla model): 0.50\n",
      "Accuracy (vanilla model): 0.50\n",
      "Accuracy (vanilla model): 0.50\n",
      "Accuracy (vanilla model): 0.50\n",
      "Accuracy (vanilla model): 0.50\n",
      "Accuracy (vanilla model): 1.00\n",
      "Accuracy (vanilla model): 1.00\n",
      "Accuracy (vanilla model): 1.00\n",
      "Accuracy (vanilla model): 1.00\n",
      "Accuracy (vanilla model): 1.00\n",
      "Accuracy (vanilla model): 1.00\n",
      "Accuracy (vanilla model): 1.00\n",
      "Accuracy (vanilla model): 1.00\n",
      "Accuracy (vanilla model): 1.00\n",
      "Accuracy (vanilla model): 1.00\n",
      "Accuracy (vanilla model): 1.00\n",
      "Accuracy (vanilla model): 1.00\n"
     ]
    },
    {
     "name": "stderr",
     "output_type": "stream",
     "text": [
      "C:\\Users\\KHOKHLOVAM\\Documents\\projects\\kotelnikov\\.venv\\lib\\site-packages\\sklearn\\model_selection\\_split.py:700: UserWarning: The least populated class in y has only 8 members, which is less than n_splits=20.\n",
      "  warnings.warn(\n"
     ]
    },
    {
     "name": "stdout",
     "output_type": "stream",
     "text": [
      "Accuracy (vanilla model): 0.50\n",
      "Accuracy (vanilla model): 0.50\n",
      "Accuracy (vanilla model): 0.50\n",
      "Accuracy (vanilla model): 0.50\n",
      "Accuracy (vanilla model): 0.50\n",
      "Accuracy (vanilla model): 0.50\n",
      "Accuracy (vanilla model): 0.50\n",
      "Accuracy (vanilla model): 0.50\n",
      "Accuracy (vanilla model): 1.00\n",
      "Accuracy (vanilla model): 1.00\n",
      "Accuracy (vanilla model): 1.00\n",
      "Accuracy (vanilla model): 1.00\n",
      "Accuracy (vanilla model): 1.00\n",
      "Accuracy (vanilla model): 1.00\n",
      "Accuracy (vanilla model): 1.00\n",
      "Accuracy (vanilla model): 1.00\n",
      "Accuracy (vanilla model): 1.00\n",
      "Accuracy (vanilla model): 1.00\n",
      "Accuracy (vanilla model): 1.00\n",
      "Accuracy (vanilla model): 1.00\n"
     ]
    },
    {
     "name": "stderr",
     "output_type": "stream",
     "text": [
      "C:\\Users\\KHOKHLOVAM\\Documents\\projects\\kotelnikov\\.venv\\lib\\site-packages\\sklearn\\model_selection\\_split.py:700: UserWarning: The least populated class in y has only 8 members, which is less than n_splits=20.\n",
      "  warnings.warn(\n"
     ]
    },
    {
     "name": "stdout",
     "output_type": "stream",
     "text": [
      "Accuracy (vanilla model): 0.50\n",
      "Accuracy (vanilla model): 0.50\n",
      "Accuracy (vanilla model): 0.50\n",
      "Accuracy (vanilla model): 0.50\n",
      "Accuracy (vanilla model): 0.50\n",
      "Accuracy (vanilla model): 0.50\n",
      "Accuracy (vanilla model): 0.50\n",
      "Accuracy (vanilla model): 0.50\n",
      "Accuracy (vanilla model): 1.00\n",
      "Accuracy (vanilla model): 1.00\n",
      "Accuracy (vanilla model): 1.00\n",
      "Accuracy (vanilla model): 1.00\n",
      "Accuracy (vanilla model): 1.00\n",
      "Accuracy (vanilla model): 1.00\n",
      "Accuracy (vanilla model): 1.00\n",
      "Accuracy (vanilla model): 1.00\n",
      "Accuracy (vanilla model): 1.00\n",
      "Accuracy (vanilla model): 1.00\n",
      "Accuracy (vanilla model): 1.00\n",
      "Accuracy (vanilla model): 1.00\n"
     ]
    },
    {
     "name": "stderr",
     "output_type": "stream",
     "text": [
      "C:\\Users\\KHOKHLOVAM\\Documents\\projects\\kotelnikov\\.venv\\lib\\site-packages\\sklearn\\model_selection\\_split.py:700: UserWarning: The least populated class in y has only 8 members, which is less than n_splits=20.\n",
      "  warnings.warn(\n"
     ]
    },
    {
     "name": "stdout",
     "output_type": "stream",
     "text": [
      "Accuracy (vanilla model): 0.50\n",
      "Accuracy (vanilla model): 0.50\n",
      "Accuracy (vanilla model): 0.50\n",
      "Accuracy (vanilla model): 0.50\n",
      "Accuracy (vanilla model): 0.50\n",
      "Accuracy (vanilla model): 0.50\n",
      "Accuracy (vanilla model): 0.50\n",
      "Accuracy (vanilla model): 0.50\n",
      "Accuracy (vanilla model): 1.00\n",
      "Accuracy (vanilla model): 1.00\n",
      "Accuracy (vanilla model): 1.00\n",
      "Accuracy (vanilla model): 1.00\n",
      "Accuracy (vanilla model): 1.00\n",
      "Accuracy (vanilla model): 1.00\n",
      "Accuracy (vanilla model): 1.00\n",
      "Accuracy (vanilla model): 1.00\n",
      "Accuracy (vanilla model): 1.00\n",
      "Accuracy (vanilla model): 1.00\n",
      "Accuracy (vanilla model): 1.00\n",
      "Accuracy (vanilla model): 1.00\n"
     ]
    },
    {
     "name": "stderr",
     "output_type": "stream",
     "text": [
      "C:\\Users\\KHOKHLOVAM\\Documents\\projects\\kotelnikov\\.venv\\lib\\site-packages\\sklearn\\model_selection\\_split.py:700: UserWarning: The least populated class in y has only 8 members, which is less than n_splits=20.\n",
      "  warnings.warn(\n"
     ]
    },
    {
     "name": "stdout",
     "output_type": "stream",
     "text": [
      "Accuracy (vanilla model): 0.50\n",
      "Accuracy (vanilla model): 0.50\n",
      "Accuracy (vanilla model): 0.50\n",
      "Accuracy (vanilla model): 0.50\n",
      "Accuracy (vanilla model): 0.50\n",
      "Accuracy (vanilla model): 0.50\n",
      "Accuracy (vanilla model): 0.50\n",
      "Accuracy (vanilla model): 0.50\n",
      "Accuracy (vanilla model): 1.00\n",
      "Accuracy (vanilla model): 1.00\n",
      "Accuracy (vanilla model): 1.00\n",
      "Accuracy (vanilla model): 1.00\n",
      "Accuracy (vanilla model): 1.00\n",
      "Accuracy (vanilla model): 1.00\n",
      "Accuracy (vanilla model): 1.00\n",
      "Accuracy (vanilla model): 1.00\n",
      "Accuracy (vanilla model): 1.00\n",
      "Accuracy (vanilla model): 1.00\n",
      "Accuracy (vanilla model): 1.00\n",
      "Accuracy (vanilla model): 1.00\n"
     ]
    },
    {
     "name": "stderr",
     "output_type": "stream",
     "text": [
      "C:\\Users\\KHOKHLOVAM\\Documents\\projects\\kotelnikov\\.venv\\lib\\site-packages\\sklearn\\model_selection\\_split.py:700: UserWarning: The least populated class in y has only 8 members, which is less than n_splits=20.\n",
      "  warnings.warn(\n"
     ]
    },
    {
     "name": "stdout",
     "output_type": "stream",
     "text": [
      "Accuracy (vanilla model): 0.50\n",
      "Accuracy (vanilla model): 0.50\n",
      "Accuracy (vanilla model): 0.50\n",
      "Accuracy (vanilla model): 0.50\n",
      "Accuracy (vanilla model): 0.50\n",
      "Accuracy (vanilla model): 0.50\n",
      "Accuracy (vanilla model): 0.50\n",
      "Accuracy (vanilla model): 0.50\n",
      "Accuracy (vanilla model): 1.00\n",
      "Accuracy (vanilla model): 1.00\n",
      "Accuracy (vanilla model): 1.00\n",
      "Accuracy (vanilla model): 1.00\n",
      "Accuracy (vanilla model): 1.00\n",
      "Accuracy (vanilla model): 1.00\n",
      "Accuracy (vanilla model): 1.00\n",
      "Accuracy (vanilla model): 1.00\n",
      "Accuracy (vanilla model): 1.00\n",
      "Accuracy (vanilla model): 1.00\n",
      "Accuracy (vanilla model): 1.00\n",
      "Accuracy (vanilla model): 1.00\n"
     ]
    },
    {
     "name": "stderr",
     "output_type": "stream",
     "text": [
      "C:\\Users\\KHOKHLOVAM\\Documents\\projects\\kotelnikov\\.venv\\lib\\site-packages\\sklearn\\model_selection\\_split.py:700: UserWarning: The least populated class in y has only 8 members, which is less than n_splits=20.\n",
      "  warnings.warn(\n"
     ]
    },
    {
     "name": "stdout",
     "output_type": "stream",
     "text": [
      "Accuracy (vanilla model): 0.50\n",
      "Accuracy (vanilla model): 0.50\n",
      "Accuracy (vanilla model): 0.50\n",
      "Accuracy (vanilla model): 0.50\n",
      "Accuracy (vanilla model): 0.50\n",
      "Accuracy (vanilla model): 0.50\n",
      "Accuracy (vanilla model): 0.50\n",
      "Accuracy (vanilla model): 0.50\n",
      "Accuracy (vanilla model): 1.00\n",
      "Accuracy (vanilla model): 1.00\n",
      "Accuracy (vanilla model): 1.00\n",
      "Accuracy (vanilla model): 1.00\n",
      "Accuracy (vanilla model): 1.00\n",
      "Accuracy (vanilla model): 1.00\n",
      "Accuracy (vanilla model): 1.00\n",
      "Accuracy (vanilla model): 1.00\n",
      "Accuracy (vanilla model): 1.00\n",
      "Accuracy (vanilla model): 1.00\n",
      "Accuracy (vanilla model): 1.00\n",
      "Accuracy (vanilla model): 1.00\n"
     ]
    },
    {
     "name": "stderr",
     "output_type": "stream",
     "text": [
      "C:\\Users\\KHOKHLOVAM\\Documents\\projects\\kotelnikov\\.venv\\lib\\site-packages\\sklearn\\model_selection\\_split.py:700: UserWarning: The least populated class in y has only 8 members, which is less than n_splits=20.\n",
      "  warnings.warn(\n"
     ]
    },
    {
     "name": "stdout",
     "output_type": "stream",
     "text": [
      "Accuracy (vanilla model): 0.50\n",
      "Accuracy (vanilla model): 0.50\n",
      "Accuracy (vanilla model): 0.50\n",
      "Accuracy (vanilla model): 0.50\n",
      "Accuracy (vanilla model): 0.50\n",
      "Accuracy (vanilla model): 0.50\n",
      "Accuracy (vanilla model): 0.50\n",
      "Accuracy (vanilla model): 0.50\n",
      "Accuracy (vanilla model): 1.00\n",
      "Accuracy (vanilla model): 1.00\n",
      "Accuracy (vanilla model): 1.00\n",
      "Accuracy (vanilla model): 1.00\n",
      "Accuracy (vanilla model): 1.00\n",
      "Accuracy (vanilla model): 1.00\n",
      "Accuracy (vanilla model): 1.00\n",
      "Accuracy (vanilla model): 1.00\n",
      "Accuracy (vanilla model): 1.00\n",
      "Accuracy (vanilla model): 1.00\n",
      "Accuracy (vanilla model): 1.00\n",
      "Accuracy (vanilla model): 1.00\n"
     ]
    },
    {
     "name": "stderr",
     "output_type": "stream",
     "text": [
      "C:\\Users\\KHOKHLOVAM\\Documents\\projects\\kotelnikov\\.venv\\lib\\site-packages\\sklearn\\model_selection\\_split.py:700: UserWarning: The least populated class in y has only 8 members, which is less than n_splits=20.\n",
      "  warnings.warn(\n"
     ]
    },
    {
     "name": "stdout",
     "output_type": "stream",
     "text": [
      "Accuracy (vanilla model): 0.50\n",
      "Accuracy (vanilla model): 0.50\n",
      "Accuracy (vanilla model): 0.50\n",
      "Accuracy (vanilla model): 0.50\n",
      "Accuracy (vanilla model): 0.50\n",
      "Accuracy (vanilla model): 0.50\n",
      "Accuracy (vanilla model): 0.50\n",
      "Accuracy (vanilla model): 0.50\n",
      "Accuracy (vanilla model): 1.00\n",
      "Accuracy (vanilla model): 1.00\n",
      "Accuracy (vanilla model): 1.00\n",
      "Accuracy (vanilla model): 1.00\n",
      "Accuracy (vanilla model): 1.00\n",
      "Accuracy (vanilla model): 1.00\n",
      "Accuracy (vanilla model): 1.00\n",
      "Accuracy (vanilla model): 1.00\n",
      "Accuracy (vanilla model): 1.00\n",
      "Accuracy (vanilla model): 1.00\n",
      "Accuracy (vanilla model): 1.00\n",
      "Accuracy (vanilla model): 1.00\n"
     ]
    },
    {
     "name": "stderr",
     "output_type": "stream",
     "text": [
      "C:\\Users\\KHOKHLOVAM\\Documents\\projects\\kotelnikov\\.venv\\lib\\site-packages\\sklearn\\model_selection\\_split.py:700: UserWarning: The least populated class in y has only 8 members, which is less than n_splits=20.\n",
      "  warnings.warn(\n"
     ]
    },
    {
     "name": "stdout",
     "output_type": "stream",
     "text": [
      "Accuracy (vanilla model): 0.50\n",
      "Accuracy (vanilla model): 0.50\n",
      "Accuracy (vanilla model): 0.50\n",
      "Accuracy (vanilla model): 0.50\n",
      "Accuracy (vanilla model): 0.50\n",
      "Accuracy (vanilla model): 0.50\n",
      "Accuracy (vanilla model): 0.50\n",
      "Accuracy (vanilla model): 0.50\n",
      "Accuracy (vanilla model): 1.00\n",
      "Accuracy (vanilla model): 1.00\n",
      "Accuracy (vanilla model): 1.00\n",
      "Accuracy (vanilla model): 1.00\n",
      "Accuracy (vanilla model): 1.00\n",
      "Accuracy (vanilla model): 1.00\n",
      "Accuracy (vanilla model): 1.00\n",
      "Accuracy (vanilla model): 1.00\n",
      "Accuracy (vanilla model): 1.00\n",
      "Accuracy (vanilla model): 1.00\n",
      "Accuracy (vanilla model): 1.00\n",
      "Accuracy (vanilla model): 1.00\n"
     ]
    },
    {
     "name": "stderr",
     "output_type": "stream",
     "text": [
      "C:\\Users\\KHOKHLOVAM\\Documents\\projects\\kotelnikov\\.venv\\lib\\site-packages\\sklearn\\model_selection\\_split.py:700: UserWarning: The least populated class in y has only 8 members, which is less than n_splits=20.\n",
      "  warnings.warn(\n"
     ]
    },
    {
     "name": "stdout",
     "output_type": "stream",
     "text": [
      "Accuracy (vanilla model): 0.50\n",
      "Accuracy (vanilla model): 0.50\n",
      "Accuracy (vanilla model): 0.50\n",
      "Accuracy (vanilla model): 0.50\n",
      "Accuracy (vanilla model): 0.50\n",
      "Accuracy (vanilla model): 0.50\n",
      "Accuracy (vanilla model): 0.50\n",
      "Accuracy (vanilla model): 0.50\n",
      "Accuracy (vanilla model): 1.00\n",
      "Accuracy (vanilla model): 1.00\n",
      "Accuracy (vanilla model): 1.00\n",
      "Accuracy (vanilla model): 1.00\n",
      "Accuracy (vanilla model): 1.00\n",
      "Accuracy (vanilla model): 1.00\n",
      "Accuracy (vanilla model): 1.00\n",
      "Accuracy (vanilla model): 1.00\n",
      "Accuracy (vanilla model): 1.00\n",
      "Accuracy (vanilla model): 1.00\n",
      "Accuracy (vanilla model): 1.00\n",
      "Accuracy (vanilla model): 1.00\n"
     ]
    },
    {
     "name": "stderr",
     "output_type": "stream",
     "text": [
      "C:\\Users\\KHOKHLOVAM\\Documents\\projects\\kotelnikov\\.venv\\lib\\site-packages\\sklearn\\model_selection\\_split.py:700: UserWarning: The least populated class in y has only 8 members, which is less than n_splits=20.\n",
      "  warnings.warn(\n"
     ]
    },
    {
     "name": "stdout",
     "output_type": "stream",
     "text": [
      "Accuracy (vanilla model): 0.50\n",
      "Accuracy (vanilla model): 0.50\n",
      "Accuracy (vanilla model): 0.50\n",
      "Accuracy (vanilla model): 0.50\n",
      "Accuracy (vanilla model): 0.50\n",
      "Accuracy (vanilla model): 0.50\n",
      "Accuracy (vanilla model): 0.50\n",
      "Accuracy (vanilla model): 0.50\n",
      "Accuracy (vanilla model): 1.00\n",
      "Accuracy (vanilla model): 1.00\n",
      "Accuracy (vanilla model): 1.00\n",
      "Accuracy (vanilla model): 1.00\n",
      "Accuracy (vanilla model): 1.00\n",
      "Accuracy (vanilla model): 1.00\n",
      "Accuracy (vanilla model): 1.00\n",
      "Accuracy (vanilla model): 1.00\n",
      "Accuracy (vanilla model): 1.00\n",
      "Accuracy (vanilla model): 1.00\n",
      "Accuracy (vanilla model): 1.00\n",
      "Accuracy (vanilla model): 1.00\n"
     ]
    },
    {
     "name": "stderr",
     "output_type": "stream",
     "text": [
      "C:\\Users\\KHOKHLOVAM\\Documents\\projects\\kotelnikov\\.venv\\lib\\site-packages\\sklearn\\model_selection\\_split.py:700: UserWarning: The least populated class in y has only 8 members, which is less than n_splits=20.\n",
      "  warnings.warn(\n"
     ]
    },
    {
     "name": "stdout",
     "output_type": "stream",
     "text": [
      "Accuracy (vanilla model): 0.50\n",
      "Accuracy (vanilla model): 0.50\n",
      "Accuracy (vanilla model): 0.50\n",
      "Accuracy (vanilla model): 0.50\n",
      "Accuracy (vanilla model): 0.50\n",
      "Accuracy (vanilla model): 0.50\n",
      "Accuracy (vanilla model): 0.50\n",
      "Accuracy (vanilla model): 0.50\n",
      "Accuracy (vanilla model): 1.00\n",
      "Accuracy (vanilla model): 1.00\n",
      "Accuracy (vanilla model): 1.00\n",
      "Accuracy (vanilla model): 1.00\n",
      "Accuracy (vanilla model): 1.00\n",
      "Accuracy (vanilla model): 1.00\n",
      "Accuracy (vanilla model): 1.00\n",
      "Accuracy (vanilla model): 1.00\n",
      "Accuracy (vanilla model): 1.00\n",
      "Accuracy (vanilla model): 1.00\n",
      "Accuracy (vanilla model): 1.00\n",
      "Accuracy (vanilla model): 1.00\n",
      "Model accuracy: 80.00% (+/- 24.49%)\n"
     ]
    }
   ],
   "source": [
    "# define 5-fold cross validation test harness\n",
    "from sklearn.model_selection import RepeatedStratifiedKFold\n",
    "kfold = RepeatedStratifiedKFold(n_splits=20, n_repeats=20, random_state=0)\n",
    "cv_scores = []\n",
    "for train, test in kfold.split(X, y):\n",
    "    # create model, train, and get accuracy\n",
    "    model = Vanilla_Net()\n",
    "    acc = model_train(model, X[train], y[train], X[test], y[test])\n",
    "    print(\"Accuracy (vanilla model): %.2f\" % acc)\n",
    "    cv_scores.append(acc)\n",
    " \n",
    "# evaluate the model\n",
    "acc = np.mean(cv_scores)\n",
    "std = np.std(cv_scores)\n",
    "print(\"Model accuracy: %.2f%% (+/- %.2f%%)\" % (acc*100, std*100))"
   ]
  },
  {
   "cell_type": "code",
   "execution_count": 37,
   "id": "c7428332",
   "metadata": {},
   "outputs": [
    {
     "ename": "NameError",
     "evalue": "name 'cv_scores' is not defined",
     "output_type": "error",
     "traceback": [
      "\u001b[1;31m---------------------------------------------------------------------------\u001b[0m",
      "\u001b[1;31mNameError\u001b[0m                                 Traceback (most recent call last)",
      "Cell \u001b[1;32mIn[37], line 1\u001b[0m\n\u001b[1;32m----> 1\u001b[0m \u001b[43mcv_scores\u001b[49m\n",
      "\u001b[1;31mNameError\u001b[0m: name 'cv_scores' is not defined"
     ]
    }
   ],
   "source": [
    "cv_scores"
   ]
  },
  {
   "cell_type": "code",
   "execution_count": 60,
   "id": "959953be",
   "metadata": {},
   "outputs": [
    {
     "name": "stdout",
     "output_type": "stream",
     "text": [
      "Model accuracy: 80.00% (+/- 24.49%)\n"
     ]
    }
   ],
   "source": [
    "print(\"Model accuracy: %.2f%% (+/- %.2f%%)\" % (acc*100, std*100))"
   ]
  },
  {
   "cell_type": "markdown",
   "id": "5e3db655",
   "metadata": {},
   "source": [
    "## CNN c конволюциями"
   ]
  },
  {
   "cell_type": "code",
   "execution_count": 28,
   "id": "35a82089",
   "metadata": {},
   "outputs": [],
   "source": [
    "n_features=1 # 1 dimension\n",
    "n_classes = 1\n",
    "\n",
    "class ConvNet1D(nn.Module):\n",
    "    def __init__(self):\n",
    "        super().__init__()\n",
    "        # with convolution\n",
    "        self.layer1 = nn.Sequential(\n",
    "            nn.Conv1d(in_channels = n_features, out_channels = 16, kernel_size=3),\n",
    "            nn.ReLU(),\n",
    "            nn.Dropout(0.5),\n",
    "            nn.MaxPool1d(10))\n",
    "        self.layer2 = nn.Flatten()\n",
    "        self.layer3 = nn.Sequential(\n",
    "            nn.Linear(32,100),\n",
    "            nn.ReLU())\n",
    "        self.layer4 = nn.Sequential(\n",
    "            nn.Linear(100,n_classes),\n",
    "            nn.Sigmoid())\n",
    "\n",
    "    def forward(self, x):\n",
    "        out = self.layer1(x)\n",
    "#         print(f'f1 {out.shape}')\n",
    "        out = self.layer2(out)\n",
    "#         print(f'f2 {out.shape}')\n",
    "        out = self.layer3(out)\n",
    "#         print(f'f3 {out.shape}')\n",
    "        out = self.layer4(out)\n",
    "        return out\n",
    "\n"
   ]
  },
  {
   "cell_type": "code",
   "execution_count": 29,
   "id": "d0ca4d29",
   "metadata": {},
   "outputs": [],
   "source": [
    "def model_train(model, X_train, y_train, X_val, y_val, device='cpu'):\n",
    "    # loss function and optimizer\n",
    "    loss_fn = nn.BCELoss()  # binary cross entropy\n",
    "    optimizer = optim.Adam(model.parameters(), lr=0.0001)\n",
    " \n",
    "    n_epochs =500   # number of epochs to run\n",
    "    batch_size = 8  # size of each batch\n",
    "    batch_start = torch.arange(0, len(X_train), batch_size)\n",
    " \n",
    "    # Hold the best model\n",
    "    best_acc = - np.inf   # init to negative infinity\n",
    "    best_weights = None\n",
    " \n",
    "    for epoch in range(n_epochs):\n",
    "        model.train()\n",
    "        with tqdm.tqdm(batch_start, unit=\"batch\", mininterval=0, disable=True) as bar:\n",
    "            bar.set_description(f\"Epoch {epoch}\")\n",
    "            for start in bar:\n",
    "                # take a batch\n",
    "                X_batch = X_train[start:start+batch_size]\n",
    "                y_batch = y_train[start:start+batch_size]\n",
    "                X_batch = torch.unsqueeze(torch.from_numpy(X_batch).to(device),1)\n",
    "                y_batch = torch.from_numpy(y_batch).to(device) \n",
    "                # forward pass\n",
    "                y_pred = model(X_batch.float())\n",
    "                loss = loss_fn(y_pred, torch.unsqueeze(y_batch,1).float())\n",
    "                # backward pass\n",
    "                optimizer.zero_grad()\n",
    "                loss.backward()\n",
    "                # update weights\n",
    "                optimizer.step()\n",
    "                # print progress\n",
    "                acc = (y_pred.round() == y_batch).float().mean()\n",
    "                bar.set_postfix(\n",
    "                    loss=float(loss),\n",
    "                    acc=float(acc)\n",
    "                )\n",
    "        # evaluate accuracy at end of each epoch\n",
    "        model.eval()\n",
    "        y_pred = model( torch.unsqueeze(torch.from_numpy(X_val).to(device),1).float())\n",
    "        acc = (y_pred.round() == torch.unsqueeze(torch.from_numpy(y_val),1).float()).float().mean()\n",
    "        acc = float(acc)\n",
    "        if acc > best_acc:\n",
    "            best_acc = acc\n",
    "            best_weights = copy.deepcopy(model.state_dict())\n",
    "    # restore model and return best accuracy\n",
    "    model.load_state_dict(best_weights)\n",
    "    return best_acc"
   ]
  },
  {
   "cell_type": "code",
   "execution_count": 37,
   "id": "225c8fa5",
   "metadata": {},
   "outputs": [
    {
     "name": "stderr",
     "output_type": "stream",
     "text": [
      "C:\\Users\\KHOKHLOVAM\\Documents\\projects\\kotelnikov\\.venv\\lib\\site-packages\\sklearn\\model_selection\\_split.py:700: UserWarning: The least populated class in y has only 8 members, which is less than n_splits=20.\n",
      "  warnings.warn(\n"
     ]
    },
    {
     "name": "stdout",
     "output_type": "stream",
     "text": [
      "Accuracy (convolutional model): 0.50\n",
      "Accuracy (convolutional model): 0.50\n",
      "Accuracy (convolutional model): 0.50\n",
      "Accuracy (convolutional model): 0.50\n",
      "Accuracy (convolutional model): 0.50\n",
      "Accuracy (convolutional model): 0.50\n",
      "Accuracy (convolutional model): 0.50\n",
      "Accuracy (convolutional model): 0.50\n",
      "Accuracy (convolutional model): 1.00\n",
      "Accuracy (convolutional model): 1.00\n",
      "Accuracy (convolutional model): 1.00\n",
      "Accuracy (convolutional model): 1.00\n",
      "Accuracy (convolutional model): 1.00\n",
      "Accuracy (convolutional model): 1.00\n",
      "Accuracy (convolutional model): 1.00\n",
      "Accuracy (convolutional model): 1.00\n",
      "Accuracy (convolutional model): 1.00\n",
      "Accuracy (convolutional model): 1.00\n",
      "Accuracy (convolutional model): 1.00\n",
      "Accuracy (convolutional model): 1.00\n"
     ]
    },
    {
     "name": "stderr",
     "output_type": "stream",
     "text": [
      "C:\\Users\\KHOKHLOVAM\\Documents\\projects\\kotelnikov\\.venv\\lib\\site-packages\\sklearn\\model_selection\\_split.py:700: UserWarning: The least populated class in y has only 8 members, which is less than n_splits=20.\n",
      "  warnings.warn(\n"
     ]
    },
    {
     "name": "stdout",
     "output_type": "stream",
     "text": [
      "Accuracy (convolutional model): 0.50\n",
      "Accuracy (convolutional model): 0.50\n",
      "Accuracy (convolutional model): 0.50\n",
      "Accuracy (convolutional model): 0.50\n",
      "Accuracy (convolutional model): 0.50\n",
      "Accuracy (convolutional model): 1.00\n",
      "Accuracy (convolutional model): 0.50\n",
      "Accuracy (convolutional model): 0.50\n",
      "Accuracy (convolutional model): 1.00\n",
      "Accuracy (convolutional model): 1.00\n",
      "Accuracy (convolutional model): 1.00\n",
      "Accuracy (convolutional model): 1.00\n",
      "Accuracy (convolutional model): 1.00\n",
      "Accuracy (convolutional model): 1.00\n",
      "Accuracy (convolutional model): 1.00\n",
      "Accuracy (convolutional model): 1.00\n",
      "Accuracy (convolutional model): 1.00\n",
      "Accuracy (convolutional model): 1.00\n",
      "Accuracy (convolutional model): 1.00\n",
      "Accuracy (convolutional model): 1.00\n"
     ]
    },
    {
     "name": "stderr",
     "output_type": "stream",
     "text": [
      "C:\\Users\\KHOKHLOVAM\\Documents\\projects\\kotelnikov\\.venv\\lib\\site-packages\\sklearn\\model_selection\\_split.py:700: UserWarning: The least populated class in y has only 8 members, which is less than n_splits=20.\n",
      "  warnings.warn(\n"
     ]
    },
    {
     "name": "stdout",
     "output_type": "stream",
     "text": [
      "Accuracy (convolutional model): 0.50\n",
      "Accuracy (convolutional model): 0.50\n",
      "Accuracy (convolutional model): 0.50\n",
      "Accuracy (convolutional model): 0.50\n",
      "Accuracy (convolutional model): 0.50\n",
      "Accuracy (convolutional model): 0.50\n",
      "Accuracy (convolutional model): 0.50\n",
      "Accuracy (convolutional model): 0.50\n",
      "Accuracy (convolutional model): 1.00\n",
      "Accuracy (convolutional model): 1.00\n",
      "Accuracy (convolutional model): 1.00\n",
      "Accuracy (convolutional model): 1.00\n",
      "Accuracy (convolutional model): 1.00\n",
      "Accuracy (convolutional model): 1.00\n",
      "Accuracy (convolutional model): 1.00\n",
      "Accuracy (convolutional model): 1.00\n",
      "Accuracy (convolutional model): 1.00\n",
      "Accuracy (convolutional model): 1.00\n",
      "Accuracy (convolutional model): 1.00\n",
      "Accuracy (convolutional model): 1.00\n"
     ]
    },
    {
     "name": "stderr",
     "output_type": "stream",
     "text": [
      "C:\\Users\\KHOKHLOVAM\\Documents\\projects\\kotelnikov\\.venv\\lib\\site-packages\\sklearn\\model_selection\\_split.py:700: UserWarning: The least populated class in y has only 8 members, which is less than n_splits=20.\n",
      "  warnings.warn(\n"
     ]
    },
    {
     "name": "stdout",
     "output_type": "stream",
     "text": [
      "Accuracy (convolutional model): 0.50\n",
      "Accuracy (convolutional model): 0.50\n",
      "Accuracy (convolutional model): 0.50\n",
      "Accuracy (convolutional model): 0.50\n",
      "Accuracy (convolutional model): 1.00\n",
      "Accuracy (convolutional model): 0.50\n",
      "Accuracy (convolutional model): 0.50\n",
      "Accuracy (convolutional model): 0.50\n",
      "Accuracy (convolutional model): 1.00\n",
      "Accuracy (convolutional model): 1.00\n",
      "Accuracy (convolutional model): 1.00\n",
      "Accuracy (convolutional model): 1.00\n",
      "Accuracy (convolutional model): 1.00\n",
      "Accuracy (convolutional model): 1.00\n",
      "Accuracy (convolutional model): 1.00\n",
      "Accuracy (convolutional model): 1.00\n",
      "Accuracy (convolutional model): 1.00\n",
      "Accuracy (convolutional model): 1.00\n",
      "Accuracy (convolutional model): 1.00\n",
      "Accuracy (convolutional model): 1.00\n"
     ]
    },
    {
     "name": "stderr",
     "output_type": "stream",
     "text": [
      "C:\\Users\\KHOKHLOVAM\\Documents\\projects\\kotelnikov\\.venv\\lib\\site-packages\\sklearn\\model_selection\\_split.py:700: UserWarning: The least populated class in y has only 8 members, which is less than n_splits=20.\n",
      "  warnings.warn(\n"
     ]
    },
    {
     "name": "stdout",
     "output_type": "stream",
     "text": [
      "Accuracy (convolutional model): 1.00\n",
      "Accuracy (convolutional model): 0.50\n",
      "Accuracy (convolutional model): 0.50\n",
      "Accuracy (convolutional model): 0.50\n",
      "Accuracy (convolutional model): 0.50\n",
      "Accuracy (convolutional model): 0.50\n",
      "Accuracy (convolutional model): 0.50\n",
      "Accuracy (convolutional model): 0.50\n",
      "Accuracy (convolutional model): 1.00\n",
      "Accuracy (convolutional model): 1.00\n",
      "Accuracy (convolutional model): 1.00\n",
      "Accuracy (convolutional model): 1.00\n",
      "Accuracy (convolutional model): 1.00\n",
      "Accuracy (convolutional model): 1.00\n",
      "Accuracy (convolutional model): 1.00\n",
      "Accuracy (convolutional model): 1.00\n",
      "Accuracy (convolutional model): 1.00\n",
      "Accuracy (convolutional model): 1.00\n",
      "Accuracy (convolutional model): 1.00\n",
      "Accuracy (convolutional model): 1.00\n"
     ]
    },
    {
     "name": "stderr",
     "output_type": "stream",
     "text": [
      "C:\\Users\\KHOKHLOVAM\\Documents\\projects\\kotelnikov\\.venv\\lib\\site-packages\\sklearn\\model_selection\\_split.py:700: UserWarning: The least populated class in y has only 8 members, which is less than n_splits=20.\n",
      "  warnings.warn(\n"
     ]
    },
    {
     "name": "stdout",
     "output_type": "stream",
     "text": [
      "Accuracy (convolutional model): 0.50\n",
      "Accuracy (convolutional model): 0.50\n",
      "Accuracy (convolutional model): 0.50\n",
      "Accuracy (convolutional model): 0.50\n",
      "Accuracy (convolutional model): 0.50\n",
      "Accuracy (convolutional model): 0.50\n",
      "Accuracy (convolutional model): 0.50\n",
      "Accuracy (convolutional model): 0.50\n",
      "Accuracy (convolutional model): 1.00\n",
      "Accuracy (convolutional model): 1.00\n",
      "Accuracy (convolutional model): 1.00\n",
      "Accuracy (convolutional model): 1.00\n",
      "Accuracy (convolutional model): 1.00\n",
      "Accuracy (convolutional model): 1.00\n",
      "Accuracy (convolutional model): 1.00\n",
      "Accuracy (convolutional model): 1.00\n",
      "Accuracy (convolutional model): 1.00\n",
      "Accuracy (convolutional model): 1.00\n",
      "Accuracy (convolutional model): 1.00\n",
      "Accuracy (convolutional model): 1.00\n"
     ]
    },
    {
     "name": "stderr",
     "output_type": "stream",
     "text": [
      "C:\\Users\\KHOKHLOVAM\\Documents\\projects\\kotelnikov\\.venv\\lib\\site-packages\\sklearn\\model_selection\\_split.py:700: UserWarning: The least populated class in y has only 8 members, which is less than n_splits=20.\n",
      "  warnings.warn(\n"
     ]
    },
    {
     "name": "stdout",
     "output_type": "stream",
     "text": [
      "Accuracy (convolutional model): 0.50\n",
      "Accuracy (convolutional model): 0.50\n",
      "Accuracy (convolutional model): 0.50\n",
      "Accuracy (convolutional model): 0.50\n",
      "Accuracy (convolutional model): 0.50\n",
      "Accuracy (convolutional model): 0.50\n",
      "Accuracy (convolutional model): 0.50\n",
      "Accuracy (convolutional model): 0.50\n",
      "Accuracy (convolutional model): 1.00\n",
      "Accuracy (convolutional model): 1.00\n",
      "Accuracy (convolutional model): 1.00\n",
      "Accuracy (convolutional model): 1.00\n",
      "Accuracy (convolutional model): 1.00\n",
      "Accuracy (convolutional model): 1.00\n",
      "Accuracy (convolutional model): 1.00\n",
      "Accuracy (convolutional model): 1.00\n",
      "Accuracy (convolutional model): 1.00\n",
      "Accuracy (convolutional model): 1.00\n",
      "Accuracy (convolutional model): 1.00\n",
      "Accuracy (convolutional model): 1.00\n"
     ]
    },
    {
     "name": "stderr",
     "output_type": "stream",
     "text": [
      "C:\\Users\\KHOKHLOVAM\\Documents\\projects\\kotelnikov\\.venv\\lib\\site-packages\\sklearn\\model_selection\\_split.py:700: UserWarning: The least populated class in y has only 8 members, which is less than n_splits=20.\n",
      "  warnings.warn(\n"
     ]
    },
    {
     "name": "stdout",
     "output_type": "stream",
     "text": [
      "Accuracy (convolutional model): 0.50\n",
      "Accuracy (convolutional model): 0.50\n",
      "Accuracy (convolutional model): 0.50\n",
      "Accuracy (convolutional model): 0.50\n",
      "Accuracy (convolutional model): 0.50\n",
      "Accuracy (convolutional model): 0.50\n",
      "Accuracy (convolutional model): 0.50\n",
      "Accuracy (convolutional model): 0.50\n",
      "Accuracy (convolutional model): 1.00\n",
      "Accuracy (convolutional model): 1.00\n",
      "Accuracy (convolutional model): 1.00\n",
      "Accuracy (convolutional model): 1.00\n",
      "Accuracy (convolutional model): 1.00\n",
      "Accuracy (convolutional model): 1.00\n",
      "Accuracy (convolutional model): 1.00\n",
      "Accuracy (convolutional model): 1.00\n",
      "Accuracy (convolutional model): 1.00\n",
      "Accuracy (convolutional model): 1.00\n",
      "Accuracy (convolutional model): 1.00\n",
      "Accuracy (convolutional model): 1.00\n"
     ]
    },
    {
     "name": "stderr",
     "output_type": "stream",
     "text": [
      "C:\\Users\\KHOKHLOVAM\\Documents\\projects\\kotelnikov\\.venv\\lib\\site-packages\\sklearn\\model_selection\\_split.py:700: UserWarning: The least populated class in y has only 8 members, which is less than n_splits=20.\n",
      "  warnings.warn(\n"
     ]
    },
    {
     "name": "stdout",
     "output_type": "stream",
     "text": [
      "Accuracy (convolutional model): 0.50\n",
      "Accuracy (convolutional model): 0.50\n",
      "Accuracy (convolutional model): 0.50\n",
      "Accuracy (convolutional model): 0.50\n",
      "Accuracy (convolutional model): 0.50\n",
      "Accuracy (convolutional model): 0.50\n",
      "Accuracy (convolutional model): 0.50\n",
      "Accuracy (convolutional model): 0.50\n",
      "Accuracy (convolutional model): 1.00\n",
      "Accuracy (convolutional model): 1.00\n",
      "Accuracy (convolutional model): 1.00\n",
      "Accuracy (convolutional model): 1.00\n",
      "Accuracy (convolutional model): 1.00\n",
      "Accuracy (convolutional model): 1.00\n",
      "Accuracy (convolutional model): 1.00\n",
      "Accuracy (convolutional model): 1.00\n",
      "Accuracy (convolutional model): 1.00\n",
      "Accuracy (convolutional model): 1.00\n",
      "Accuracy (convolutional model): 1.00\n",
      "Accuracy (convolutional model): 1.00\n"
     ]
    },
    {
     "name": "stderr",
     "output_type": "stream",
     "text": [
      "C:\\Users\\KHOKHLOVAM\\Documents\\projects\\kotelnikov\\.venv\\lib\\site-packages\\sklearn\\model_selection\\_split.py:700: UserWarning: The least populated class in y has only 8 members, which is less than n_splits=20.\n",
      "  warnings.warn(\n"
     ]
    },
    {
     "name": "stdout",
     "output_type": "stream",
     "text": [
      "Accuracy (convolutional model): 0.50\n",
      "Accuracy (convolutional model): 0.50\n",
      "Accuracy (convolutional model): 0.50\n",
      "Accuracy (convolutional model): 0.50\n",
      "Accuracy (convolutional model): 0.50\n",
      "Accuracy (convolutional model): 0.50\n",
      "Accuracy (convolutional model): 0.50\n",
      "Accuracy (convolutional model): 0.50\n",
      "Accuracy (convolutional model): 1.00\n",
      "Accuracy (convolutional model): 1.00\n",
      "Accuracy (convolutional model): 1.00\n",
      "Accuracy (convolutional model): 1.00\n",
      "Accuracy (convolutional model): 1.00\n",
      "Accuracy (convolutional model): 1.00\n",
      "Accuracy (convolutional model): 1.00\n",
      "Accuracy (convolutional model): 1.00\n",
      "Accuracy (convolutional model): 1.00\n",
      "Accuracy (convolutional model): 1.00\n",
      "Accuracy (convolutional model): 1.00\n",
      "Accuracy (convolutional model): 1.00\n",
      "Model accuracy: 80.75% (+/- 24.33%)\n"
     ]
    }
   ],
   "source": [
    "# define 5-fold cross validation test harness\n",
    "from sklearn.model_selection import StratifiedKFold \n",
    "kfold = RepeatedStratifiedKFold(n_splits=20, n_repeats=10)\n",
    "cv_scores = []\n",
    "for train, test in kfold.split(X, y):\n",
    "    # create model, train, and get accuracy\n",
    "    model = ConvNet1D()\n",
    "    acc = model_train(model, X[train], y[train], X[test], y[test])\n",
    "    print(\"Accuracy (convolutional model): %.2f\" % acc)\n",
    "    cv_scores.append(acc)\n",
    " \n",
    "# evaluate the model\n",
    "acc = np.mean(cv_scores)\n",
    "std = np.std(cv_scores)\n",
    "print(\"Model accuracy: %.2f%% (+/- %.2f%%)\" % (acc*100, std*100))"
   ]
  },
  {
   "cell_type": "code",
   "execution_count": null,
   "id": "77617d45",
   "metadata": {},
   "outputs": [],
   "source": [
    "## vanilla 2\n",
    "import numpy as np\n",
    "import torch\n",
    "import torch.nn as nn\n",
    "import torch.optim as optim\n",
    "from torch.utils.data import Dataset, DataLoader\n",
    "\n",
    "# define the model using pytorch https://github.com/harryjdavies/Python1D_CNNs/blob/master/CCN1D_pytorch_activity.py\n",
    "\n",
    "n_features=24 # 1 dimension\n",
    "n_classes = 1 # binary classification PD / Control\n",
    "batch_size = 4\n",
    "\n",
    "class Vanilla2_Net(nn.Module):\n",
    "    def __init__(self):\n",
    "        super().__init__()\n",
    "        self.layer1 = nn.Linear(in_features = n_features, out_features = 256)\n",
    "        self.relu = nn.ReLU()\n",
    "        self.layer2 =  nn.Linear(256,n_classes)\n",
    "        self.sigm = nn.Sigmoid()\n",
    "\n",
    "    def forward(self, x):\n",
    "        out = self.layer1(x)\n",
    "        out = self.relu(out)\n",
    "        out = self.layer2(out)\n",
    "        out = self.sigm(out)\n",
    "        return out"
   ]
  },
  {
   "cell_type": "code",
   "execution_count": null,
   "id": "a310f995",
   "metadata": {},
   "outputs": [],
   "source": [
    "# define 5-fold cross validation test harness\n",
    "from sklearn.model_selection import StratifiedKFold \n",
    "kfold = StratifiedKFold(n_splits=20, shuffle=True)\n",
    "cv_scores = []\n",
    "for train, test in kfold.split(X, y):\n",
    "    # create model, train, and get accuracy\n",
    "    model = Vanilla2_Net()\n",
    "    acc = model_train(model, X[train], y[train], X[test], y[test])\n",
    "    print(\"Accuracy (vanilla model): %.2f\" % acc)\n",
    "    cv_scores.append(acc)\n",
    " \n",
    "# evaluate the model\n",
    "acc = np.mean(cv_scores)\n",
    "std = np.std(cv_scores)\n",
    "print(\"Model accuracy: %.2f%% (+/- %.2f%%)\" % (acc*100, std*100))"
   ]
  },
  {
   "cell_type": "markdown",
   "id": "93fcfaa5",
   "metadata": {},
   "source": [
    "## SVM\n"
   ]
  },
  {
   "cell_type": "code",
   "execution_count": null,
   "id": "bc4bcce7",
   "metadata": {},
   "outputs": [],
   "source": []
  },
  {
   "cell_type": "code",
   "execution_count": 17,
   "id": "40137ac2",
   "metadata": {},
   "outputs": [],
   "source": [
    "from sklearn.svm import SVC\n",
    "from sklearn.model_selection import KFold\n",
    "from sklearn.model_selection import cross_val_score, cross_validate\n",
    "from numpy import mean\n",
    "from numpy import std\n",
    "from sklearn.datasets import make_classification\n",
    "from sklearn.model_selection import RepeatedStratifiedKFold\n",
    "from matplotlib import pyplot\n",
    "# Зададим необходимые параметры и функции для деревьев\n",
    "# Тут по сто повторов разделения данных, чтобы получить точные результаты\n",
    "def get_models():\n",
    "    models = dict()\n",
    "    kernel = ['linear','rbf','sigmoid','poly']\n",
    "    for n in kernel:\n",
    "        models[str(n)] = SVC(kernel=n)\n",
    "    return models\n",
    " \n",
    "# evaluate a give model using cross-validation\n",
    "def evaluate_model(model, X, y,random_state=1):\n",
    "\tcv = RepeatedStratifiedKFold(n_splits=10, n_repeats=200, random_state=random_state)\n",
    "\tscores = cross_val_score(model, X, y, scoring='accuracy', cv=cv, n_jobs=-1)\n",
    "\treturn scores"
   ]
  },
  {
   "cell_type": "code",
   "execution_count": 35,
   "id": "7f548b64",
   "metadata": {},
   "outputs": [
    {
     "name": "stdout",
     "output_type": "stream",
     "text": [
      "(29, 24) 29\n"
     ]
    }
   ],
   "source": [
    "# Generators\n",
    "X = features_v_et_c # features_v_et_c +  features_h_et_c #np.hstack((features_h_pd_c, features_v_pd_c))#\n",
    "print(X.shape, len(labels_et_c))\n",
    "#training_set = Dataset(X, labels_et_c)\n",
    "#training_generator = torch.utils.data.DataLoader(training_set, **params)\n",
    "y = np.array(labels_et_c)"
   ]
  },
  {
   "cell_type": "code",
   "execution_count": 36,
   "id": "54ef2ddc",
   "metadata": {},
   "outputs": [
    {
     "name": "stdout",
     "output_type": "stream",
     "text": [
      ">linear 0.733 (0.133)\n",
      ">rbf 0.733 (0.133)\n",
      ">sigmoid 0.733 (0.133)\n",
      ">poly 0.733 (0.133)\n"
     ]
    },
    {
     "data": {
      "image/png": "[encoded data removed]",
      "text/plain": [
       "<Figure size 640x480 with 1 Axes>"
      ]
     },
     "metadata": {},
     "output_type": "display_data"
    }
   ],
   "source": [
    "import warnings\n",
    "warnings.filterwarnings('ignore')\n",
    "models = get_models()\n",
    "# evaluate the models and store results\n",
    "results, names = list(), list()\n",
    "for name, model in models.items():\n",
    "\tscores = evaluate_model(model, X, y,0)\n",
    "\tresults.append(scores)\n",
    "\tnames.append(name)\n",
    "\tprint('>%s %.3f (%.3f)' % (name, mean(scores), std(scores)))\n",
    "# plot model performance for comparison\n",
    "pyplot.boxplot(results, labels=names, showmeans=True)\n",
    "pyplot.title('Что SVM  без регуляризации могут дать на этих данных')\n",
    "pyplot.show()"
   ]
  },
  {
   "cell_type": "markdown",
   "id": "698a72f0",
   "metadata": {},
   "source": [
    "## KNNs"
   ]
  },
  {
   "cell_type": "code",
   "execution_count": 38,
   "id": "fe551046",
   "metadata": {},
   "outputs": [],
   "source": [
    "from sklearn.neighbors import KNeighborsClassifier"
   ]
  },
  {
   "cell_type": "code",
   "execution_count": null,
   "id": "9b15a7bb",
   "metadata": {},
   "outputs": [],
   "source": [
    "def get_models():\n",
    "    models = dict()\n",
    "    k = [1,2,3,4,5,6,7,8]\n",
    "    for n in k:\n",
    "        models[str(n)] = KNeighborsClassifier(k=n)\n",
    "    return models\n",
    " \n",
    "# evaluate a give model using cross-validation\n",
    "def evaluate_model(model, X, y,random_state=1):\n",
    "\tcv = RepeatedStratifiedKFold(n_splits=10, n_repeats=200, random_state=random_state)\n",
    "\tscores = cross_val_score(model, X, y, scoring='accuracy', cv=cv, n_jobs=-1)\n",
    "\treturn scores"
   ]
  },
  {
   "cell_type": "code",
   "execution_count": null,
   "id": "f024fc7e",
   "metadata": {},
   "outputs": [],
   "source": [
    "# Generators\n",
    "X = features_v_pd_c # features_v_et_c +  features_h_et_c #np.hstack((features_h_pd_c, features_v_pd_c))#\n",
    "print(X.shape, len(labels_pd_c))\n",
    "y = np.array(labels_pd_c)"
   ]
  },
  {
   "cell_type": "code",
   "execution_count": null,
   "id": "5a789e58",
   "metadata": {},
   "outputs": [],
   "source": []
  }
 ],
 "metadata": {
  "kernelspec": {
   "display_name": "Python 3 (ipykernel)",
   "language": "python",
   "name": "python3"
  },
  "language_info": {
   "codemirror_mode": {
    "name": "ipython",
    "version": 3
   },
   "file_extension": ".py",
   "mimetype": "text/x-python",
   "name": "python",
   "nbconvert_exporter": "python",
   "pygments_lexer": "ipython3",
   "version": "3.8.10"
  }
 },
 "nbformat": 4,
 "nbformat_minor": 5
}
